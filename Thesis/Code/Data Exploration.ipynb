{
 "cells": [
  {
   "cell_type": "markdown",
   "metadata": {},
   "source": [
    "## Data Exploration "
   ]
  },
  {
   "cell_type": "code",
   "execution_count": 1,
   "metadata": {},
   "outputs": [],
   "source": [
    "import pandas as pd\n",
    "import numpy as np\n",
    "import seaborn as sns\n",
    "from collections import Counter\n",
    "import matplotlib.pyplot as plt\n",
    "%matplotlib inline\n",
    "\n",
    "from prepro import readfile, get_sentence, get_label, get_all, get_corpus"
   ]
  },
  {
   "cell_type": "code",
   "execution_count": 2,
   "metadata": {
    "scrolled": false
   },
   "outputs": [],
   "source": [
    "train = readfile(\"train.txt\")\n",
    "test = readfile(\"test.txt\")"
   ]
  },
  {
   "cell_type": "code",
   "execution_count": 3,
   "metadata": {},
   "outputs": [
    {
     "name": "stdout",
     "output_type": "stream",
     "text": [
      "     Words  POS     NER Chunk\n",
      "0       EU  NNP   B-ORG  B-NP\n",
      "1  rejects  VBZ       O  B-VP\n",
      "2   German   JJ  B-MISC  B-NP\n",
      "3     call   NN       O  I-NP\n",
      "4       to   TO       O  B-VP\n",
      "5  boycott   VB       O  I-VP\n",
      "6  British   JJ  B-MISC  B-NP\n",
      "7     lamb   NN       O  I-NP\n",
      "8        .    .       O     O\n"
     ]
    }
   ],
   "source": [
    "def print_head(dataset,sentence_number):\n",
    "    data = get_all(dataset,sentence_number)\n",
    "    words =[]\n",
    "    pos =[]\n",
    "    chunk = []\n",
    "    ner =[]\n",
    "    for i in data:\n",
    "        words.append(i[0])\n",
    "        pos.append(i[-1])\n",
    "        ner.append(i[1])\n",
    "        chunk.append(i[-2])\n",
    "        \n",
    "    df = pd.DataFrame(words, columns=['Words'])\n",
    "    df[\"POS\"] = pos\n",
    "    df[\"NER\"] = ner\n",
    "    df[\"Chunk\"] = chunk\n",
    "    return(print(df))\n",
    "    \n",
    "print_head(train,1)   "
   ]
  },
  {
   "cell_type": "code",
   "execution_count": 4,
   "metadata": {
    "scrolled": true
   },
   "outputs": [
    {
     "name": "stdout",
     "output_type": "stream",
     "text": [
      "EU        rejects   German    call      to        boycott   British   lamb      .         \n",
      "B-ORG     O         B-MISC    O         O         O         B-MISC    O         O         \n"
     ]
    }
   ],
   "source": [
    "#print out the fist sentence\n",
    "def print_sentence(sentence_number):\n",
    "    #use list comprehensions to print the sentence with entity tags\n",
    "    print(\"\".join(['{:10}'.format(word[0]) for word in train[sentence_number-1]]))\n",
    "    print(\"\".join(['{:10}'.format(word[1]) for word in train[sentence_number-1]]))\n",
    "\n",
    "print_sentence(1)"
   ]
  },
  {
   "cell_type": "markdown",
   "metadata": {},
   "source": [
    "## Properties of the Data"
   ]
  },
  {
   "cell_type": "code",
   "execution_count": 5,
   "metadata": {},
   "outputs": [],
   "source": [
    "sentences =[len(train), len(test)]\n",
    "tokens = [get_corpus(train)[0],get_corpus(test)[0]]\n",
    "uni =[get_corpus(train)[1],get_corpus(test)[1]]"
   ]
  },
  {
   "cell_type": "code",
   "execution_count": 10,
   "metadata": {},
   "outputs": [
    {
     "data": {
      "text/html": [
       "<div>\n",
       "<style scoped>\n",
       "    .dataframe tbody tr th:only-of-type {\n",
       "        vertical-align: middle;\n",
       "    }\n",
       "\n",
       "    .dataframe tbody tr th {\n",
       "        vertical-align: top;\n",
       "    }\n",
       "\n",
       "    .dataframe thead th {\n",
       "        text-align: right;\n",
       "    }\n",
       "</style>\n",
       "<table border=\"1\" class=\"dataframe\">\n",
       "  <thead>\n",
       "    <tr style=\"text-align: right;\">\n",
       "      <th></th>\n",
       "      <th>Train</th>\n",
       "      <th>Test</th>\n",
       "    </tr>\n",
       "  </thead>\n",
       "  <tbody>\n",
       "    <tr>\n",
       "      <th>Sentences</th>\n",
       "      <td>14041</td>\n",
       "      <td>3453</td>\n",
       "    </tr>\n",
       "    <tr>\n",
       "      <th>tokens</th>\n",
       "      <td>203621</td>\n",
       "      <td>46435</td>\n",
       "    </tr>\n",
       "    <tr>\n",
       "      <th>unique words</th>\n",
       "      <td>23623</td>\n",
       "      <td>9488</td>\n",
       "    </tr>\n",
       "  </tbody>\n",
       "</table>\n",
       "</div>"
      ],
      "text/plain": [
       "               Train   Test\n",
       "Sentences      14041   3453\n",
       "tokens        203621  46435\n",
       "unique words   23623   9488"
      ]
     },
     "execution_count": 10,
     "metadata": {},
     "output_type": "execute_result"
    }
   ],
   "source": [
    "df=pd.DataFrame(sentences, columns=[\"Sentences\"])\n",
    "df['tokens']=tokens\n",
    "df['unique words'] =uni\n",
    "df= df.transpose()\n",
    "df.columns =[\"Train\", \"Test\"]\n",
    "df"
   ]
  },
  {
   "cell_type": "code",
   "execution_count": 15,
   "metadata": {},
   "outputs": [
    {
     "name": "stdout",
     "output_type": "stream",
     "text": [
      "The average length of sentences is 15 words\n",
      "The longest senetence has 113 words\n",
      "The shortest senetence has 1 word\n"
     ]
    }
   ],
   "source": [
    "#get data on sentence length\n",
    "sentences_len = []\n",
    "for sentence in train:\n",
    "    sentences_len.append(len(sentence))\n",
    "\n",
    "#training set\n",
    "print(\"The average length of sentences is %s words\" %round((sum(sentences_len)/len(train))))\n",
    "print(\"The longest senetence has %s words\" %max(sentences_len))\n",
    "print(\"The shortest senetence has %s word\" %min(sentences_len))"
   ]
  },
  {
   "cell_type": "code",
   "execution_count": 69,
   "metadata": {},
   "outputs": [
    {
     "data": {
      "image/png": "[encoded data removed]",
      "text/plain": [
       "<matplotlib.figure.Figure at 0x1b6d66a0>"
      ]
     },
     "metadata": {},
     "output_type": "display_data"
    }
   ],
   "source": [
    "#Show the distribution of sentence length\n",
    "plt.hist(sentences,bins=40, rwidth=0.9,\n",
    "                   color='#3c73a8',log=False)\n",
    "\n",
    "plt.show()"
   ]
  },
  {
   "cell_type": "code",
   "execution_count": 84,
   "metadata": {},
   "outputs": [],
   "source": [
    "#What is the most popular entity - Entity counter\n",
    "entities = []\n",
    "for sentence in train:\n",
    "    for word in sentence:\n",
    "        entities.append(word[1])"
   ]
  },
  {
   "cell_type": "code",
   "execution_count": 110,
   "metadata": {},
   "outputs": [
    {
     "data": {
      "text/plain": [
       "Counter({'B-LOC': 7140,\n",
       "         'B-MISC': 3438,\n",
       "         'B-ORG': 6321,\n",
       "         'B-PER': 6600,\n",
       "         'I-LOC': 1157,\n",
       "         'I-MISC': 1155,\n",
       "         'I-ORG': 3704,\n",
       "         'I-PER': 4528,\n",
       "         'O': 169578})"
      ]
     },
     "execution_count": 110,
     "metadata": {},
     "output_type": "execute_result"
    }
   ],
   "source": [
    "Counter(entities)\n",
    "#pd.DataFrame.from_dict(c, orient='index').reset_index()"
   ]
  },
  {
   "cell_type": "code",
   "execution_count": 109,
   "metadata": {},
   "outputs": [
    {
     "data": {
      "image/png": "[encoded data removed]",
      "text/plain": [
       "<matplotlib.figure.Figure at 0x1a5f66a0>"
      ]
     },
     "metadata": {},
     "output_type": "display_data"
    }
   ],
   "source": [
    "labels, values = zip(*Counter(entities).items())\n",
    "indexes = np.arange(len(labels))\n",
    "plt.bar(indexes, values, width, color='#3c73a8')\n",
    "plt.xticks(indexes + width * 0.5, labels)\n",
    "plt.show()"
   ]
  },
  {
   "cell_type": "code",
   "execution_count": null,
   "metadata": {
    "collapsed": true
   },
   "outputs": [],
   "source": []
  }
 ],
 "metadata": {
  "kernelspec": {
   "display_name": "Python 3",
   "language": "python",
   "name": "python3"
  },
  "language_info": {
   "codemirror_mode": {
    "name": "ipython",
    "version": 3
   },
   "file_extension": ".py",
   "mimetype": "text/x-python",
   "name": "python",
   "nbconvert_exporter": "python",
   "pygments_lexer": "ipython3",
   "version": "3.7.1"
  }
 },
 "nbformat": 4,
 "nbformat_minor": 1
}
