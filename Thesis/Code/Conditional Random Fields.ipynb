{
 "cells": [
  {
   "cell_type": "markdown",
   "metadata": {},
   "source": [
    "# Conditional Random Field Model"
   ]
  },
  {
   "cell_type": "code",
   "execution_count": 249,
   "metadata": {},
   "outputs": [],
   "source": [
    "import pandas as pd\n",
    "import numpy as np\n",
    "from sklearn.model_selection import train_test_split\n",
    "\n",
    "#Custom models\n",
    "from prepro import readfile, readstring, get_sentence, is_number, extract_words,get_label\n",
    "\n",
    "#Model\n",
    "from sklearn_crfsuite import CRF\n",
    "\n",
    "#Evalulation\n",
    "from sklearn.model_selection import cross_val_predict\n",
    "from sklearn_crfsuite.metrics import flat_classification_report\n",
    "from sklearn_crfsuite.metrics import flat_f1_score"
   ]
  },
  {
   "cell_type": "code",
   "execution_count": 217,
   "metadata": {},
   "outputs": [],
   "source": [
    "#import data from my github repo\n",
    "train = readfile(\"train.txt\")\n",
    "corpus = train.copy()\n",
    "test = readfile(\"test.txt\")\n",
    "\n",
    "#create corpus\n",
    "corpus.extend(test)"
   ]
  },
  {
   "cell_type": "code",
   "execution_count": 218,
   "metadata": {},
   "outputs": [],
   "source": [
    "words = []\n",
    "tags = []\n",
    "for sentence in corpus:\n",
    "    for word in sentence:\n",
    "        words.append(word[0])\n",
    "        tags.append(word[1])   "
   ]
  },
  {
   "cell_type": "markdown",
   "metadata": {},
   "source": [
    "## Tokenization"
   ]
  },
  {
   "cell_type": "code",
   "execution_count": 219,
   "metadata": {},
   "outputs": [
    {
     "name": "stdout",
     "output_type": "stream",
     "text": [
      "Number of words in the dataset:  27316\n",
      "Number of tags in the dataset:  9\n"
     ]
    }
   ],
   "source": [
    "words=list(words)\n",
    "n_words = len(set(words))\n",
    "n_tags = len(set(tags))\n",
    "\n",
    "print(\"Number of words in the dataset: \", n_words)\n",
    "print(\"Number of tags in the dataset: \", n_tags)"
   ]
  },
  {
   "cell_type": "code",
   "execution_count": 220,
   "metadata": {},
   "outputs": [
    {
     "name": "stdout",
     "output_type": "stream",
     "text": [
      "The word 'rejects' is identified by the index: 218128\n"
     ]
    }
   ],
   "source": [
    "word2idx = {w: i + 2 for i, w in enumerate(words)}\n",
    "word2idx[\"UNK\"] = 1 # Unknown words\n",
    "word2idx[\"PAD\"] = 0 # Padding\n",
    "# Vocabulary Key:token_index -> Value:word\n",
    "idx2word = {i: w for w, i in word2idx.items()}\n",
    "print(\"The word 'rejects' is identified by the index: {}\".format(word2idx[\"rejects\"]))"
   ]
  },
  {
   "cell_type": "code",
   "execution_count": 221,
   "metadata": {},
   "outputs": [
    {
     "name": "stdout",
     "output_type": "stream",
     "text": [
      "The labels B-LOC (location) is identified by the index: 250026\n"
     ]
    }
   ],
   "source": [
    "# The first entry is reserved for PAD\n",
    "tag2idx = {t: i+1 for i, t in enumerate(tags)}\n",
    "tag2idx[\"PAD\"] = 0\n",
    "# Vocabulary Key:tag_index -> Value:Label/Tag\n",
    "idx2tag = {i: w for w, i in tag2idx.items()}\n",
    "print(\"The labels B-LOC (location) is identified by the index: {}\".format(tag2idx[\"B-LOC\"]))"
   ]
  },
  {
   "cell_type": "code",
   "execution_count": 222,
   "metadata": {},
   "outputs": [],
   "source": [
    "def tokenize(word_list):\n",
    "    new_list= []\n",
    "    for word in word_list:\n",
    "        if is_number(word2idx[word]):\n",
    "            new_list.append(word2idx[word])\n",
    "    else:\n",
    "        None\n",
    "    return(new_list)"
   ]
  },
  {
   "cell_type": "code",
   "execution_count": 223,
   "metadata": {},
   "outputs": [],
   "source": [
    "#training set\n",
    "train_words, train_tags = extract_words(train)\n",
    "\n",
    "#tokenize words into tokens\n",
    "tr_words = tokenize(train_words)"
   ]
  },
  {
   "cell_type": "markdown",
   "metadata": {},
   "source": [
    "## Feature Engineering"
   ]
  },
  {
   "cell_type": "code",
   "execution_count": 224,
   "metadata": {},
   "outputs": [],
   "source": [
    "def word2features(sentence,i):\n",
    "    word = sentence[i][0]\n",
    "\n",
    "    features = {\n",
    "        'bias': 1.0,\n",
    "        'word.lower()': word.lower(),\n",
    "        'word[-3:]': word[-3:],\n",
    "        'word[-2:]': word[-2:],\n",
    "        'word.isupper()': word.isupper(),\n",
    "        'word.istitle()': word.istitle(),\n",
    "        'word.isdigit()': word.isdigit(),\n",
    "    }\n",
    "    if i > 0:\n",
    "        word1 = sentence[i-1][0]\n",
    "        features.update({\n",
    "            '-1:word.lower()': word1.lower(),\n",
    "            '-1:word.istitle()': word1.istitle(),\n",
    "            '-1:word.isupper()': word1.isupper(),\n",
    "        })\n",
    "    else:\n",
    "        features['BOS'] = True\n",
    "        \n",
    "    if i < len(sentence)-1:\n",
    "        word1 = sentence[i+1][0]\n",
    "        features.update({\n",
    "            '+1:word.lower()': word1.lower(),\n",
    "            '+1:word.istitle()': word1.istitle(),\n",
    "            '+1:word.isupper()': word1.isupper(),\n",
    "        })\n",
    "    else:\n",
    "        features['EOS'] = True\n",
    "    \n",
    "    return features\n",
    "\n",
    "def sent2features(sent):\n",
    "    return [word2features(sent, i) for i in range(len(sent))]\n",
    "\n",
    "def get_all_sentences(dataset):\n",
    "    sentences=[]\n",
    "    for i in range(len(dataset)):\n",
    "        sentences.append(get_sentence(dataset,i+1))\n",
    "    return sentences\n",
    "\n",
    "def get_all_labels(dataset):\n",
    "    labels=[]\n",
    "    for i in range(len(dataset)):\n",
    "        labels.append(get_label(dataset,i+1))\n",
    "    return labels"
   ]
  },
  {
   "cell_type": "code",
   "execution_count": 225,
   "metadata": {},
   "outputs": [
    {
     "name": "stdout",
     "output_type": "stream",
     "text": [
      "['EU', 'rejects', 'German', 'call', 'to', 'boycott', 'British', 'lamb', '.']\n",
      "['B-ORG', 'O', 'B-MISC', 'O', 'O', 'O', 'B-MISC', 'O', 'O']\n"
     ]
    }
   ],
   "source": [
    "#Get all the sentences in the form of a list\n",
    "sentences = get_all_sentences(train)\n",
    "labels = get_all_labels(train)\n",
    "\n",
    "#get the first sentence\n",
    "sent = get_sentence(train,1)\n",
    "label = get_label(train,1)\n",
    "\n",
    "#print out first sentence\n",
    "print(sent)\n",
    "print(label)"
   ]
  },
  {
   "cell_type": "code",
   "execution_count": 226,
   "metadata": {},
   "outputs": [],
   "source": [
    "X = [sent2features(s) for s in sentences]\n",
    "y = labels"
   ]
  },
  {
   "cell_type": "code",
   "execution_count": 227,
   "metadata": {},
   "outputs": [
    {
     "data": {
      "text/plain": [
       "['B-ORG', 'O', 'B-MISC', 'O', 'O', 'O', 'B-MISC', 'O', 'O']"
      ]
     },
     "execution_count": 227,
     "metadata": {},
     "output_type": "execute_result"
    }
   ],
   "source": [
    "get_sentence(train,1)\n",
    "get_label(train,1)"
   ]
  },
  {
   "cell_type": "markdown",
   "metadata": {},
   "source": [
    "\n",
    "## Condtional Random Field Model\n",
    "\n",
    "### Model 1\n",
    "- Using Stochastic Gradient descent "
   ]
  },
  {
   "cell_type": "code",
   "execution_count": 228,
   "metadata": {},
   "outputs": [],
   "source": [
    "crf1 = CRF(algorithm='l2sgd',\n",
    "          max_iterations=100,\n",
    "          all_possible_transitions=False)"
   ]
  },
  {
   "cell_type": "code",
   "execution_count": 229,
   "metadata": {},
   "outputs": [
    {
     "name": "stdout",
     "output_type": "stream",
     "text": [
      "Wall time: 16.7 s\n"
     ]
    },
    {
     "data": {
      "text/plain": [
       "CRF(algorithm='l2sgd', all_possible_states=None,\n",
       "  all_possible_transitions=False, averaging=None, c=None, c1=None, c2=None,\n",
       "  calibration_candidates=None, calibration_eta=None,\n",
       "  calibration_max_trials=None, calibration_rate=None,\n",
       "  calibration_samples=None, delta=None, epsilon=None, error_sensitive=None,\n",
       "  gamma=None, keep_tempfiles=None, linesearch=None, max_iterations=100,\n",
       "  max_linesearch=None, min_freq=None, model_filename=None,\n",
       "  num_memories=None, pa_type=None, period=None, trainer_cls=None,\n",
       "  variance=None, verbose=False)"
      ]
     },
     "execution_count": 229,
     "metadata": {},
     "output_type": "execute_result"
    }
   ],
   "source": [
    "%%time\n",
    "#training model\n",
    "crf1.fit(X=X, y=y)"
   ]
  },
  {
   "cell_type": "code",
   "execution_count": 230,
   "metadata": {},
   "outputs": [
    {
     "name": "stdout",
     "output_type": "stream",
     "text": [
      "             precision    recall  f1-score   support\n",
      "\n",
      "      B-LOC       0.58      0.67      0.62      7140\n",
      "     B-MISC       0.53      0.30      0.38      3438\n",
      "      B-ORG       0.59      0.49      0.53      6321\n",
      "      B-PER       0.69      0.64      0.66      6600\n",
      "      I-LOC       0.45      0.56      0.50      1157\n",
      "     I-MISC       0.48      0.22      0.30      1155\n",
      "      I-ORG       0.49      0.56      0.52      3704\n",
      "      I-PER       0.76      0.83      0.79      4528\n",
      "          O       0.97      0.98      0.98    169578\n",
      "\n",
      "avg / total       0.91      0.91      0.91    203621\n",
      "\n"
     ]
    }
   ],
   "source": [
    "#generate predictions\n",
    "pred = crf1.predict(X)\n",
    "\n",
    "#generate report on entire model\n",
    "report = flat_classification_report(y_pred=pred, y_true=y)\n",
    "print(report)"
   ]
  },
  {
   "cell_type": "markdown",
   "metadata": {},
   "source": [
    "### Model 2:\n",
    "- Algorithm :Stochastic Gradient descent\n",
    "- L2 regularization (c2=0.1)"
   ]
  },
  {
   "cell_type": "code",
   "execution_count": 231,
   "metadata": {},
   "outputs": [
    {
     "name": "stdout",
     "output_type": "stream",
     "text": [
      "             precision    recall  f1-score   support\n",
      "\n",
      "      B-LOC       0.56      0.64      0.60      7140\n",
      "     B-MISC       0.52      0.30      0.38      3438\n",
      "      B-ORG       0.67      0.39      0.49      6321\n",
      "      B-PER       0.57      0.72      0.64      6600\n",
      "      I-LOC       0.52      0.47      0.49      1157\n",
      "     I-MISC       0.44      0.15      0.23      1155\n",
      "      I-ORG       0.59      0.38      0.47      3704\n",
      "      I-PER       0.66      0.90      0.76      4528\n",
      "          O       0.97      0.98      0.98    169578\n",
      "\n",
      "avg / total       0.91      0.91      0.91    203621\n",
      "\n",
      "Wall time: 17.9 s\n"
     ]
    }
   ],
   "source": [
    "%%time\n",
    "crf2 = CRF(algorithm='l2sgd',\n",
    "          c2=0.1,\n",
    "          max_iterations=100,\n",
    "          all_possible_transitions=False)\n",
    "\n",
    "#training model\n",
    "crf2.fit(X=X, y=y)\n",
    "         \n",
    "#generate predictions\n",
    "pred = crf2.predict(X)\n",
    "\n",
    "#generate report on entire model\n",
    "report = flat_classification_report(y_pred=pred, y_true=y)\n",
    "print(report)"
   ]
  },
  {
   "cell_type": "markdown",
   "metadata": {},
   "source": [
    "## Model 3\n",
    "\n",
    "- Algorithm : Gradient descent using the L-BFGS method\n",
    "- L1 regularization (c2=0)\n",
    "- L2 regularization (c2=0)"
   ]
  },
  {
   "cell_type": "code",
   "execution_count": 232,
   "metadata": {},
   "outputs": [
    {
     "name": "stdout",
     "output_type": "stream",
     "text": [
      "             precision    recall  f1-score   support\n",
      "\n",
      "      B-LOC       0.60      0.62      0.61      7140\n",
      "     B-MISC       0.51      0.35      0.41      3438\n",
      "      B-ORG       0.60      0.48      0.54      6321\n",
      "      B-PER       0.67      0.65      0.66      6600\n",
      "      I-LOC       0.58      0.46      0.51      1157\n",
      "     I-MISC       0.42      0.30      0.35      1155\n",
      "      I-ORG       0.47      0.59      0.52      3704\n",
      "      I-PER       0.74      0.85      0.79      4528\n",
      "          O       0.97      0.98      0.98    169578\n",
      "\n",
      "avg / total       0.91      0.91      0.91    203621\n",
      "\n",
      "Wall time: 14.9 s\n"
     ]
    }
   ],
   "source": [
    "%%time\n",
    "crf3 = CRF(algorithm='lbfgs',\n",
    "          #c1=0.1,\n",
    "          #c2=0.1,\n",
    "          max_iterations=100,\n",
    "          all_possible_transitions=False)\n",
    "\n",
    "#training model\n",
    "crf3.fit(X=X, y=y)\n",
    "\n",
    "#generate predictions\n",
    "pred = crf3.predict(X)\n",
    "\n",
    "#generate report on entire model\n",
    "report = flat_classification_report(y_pred=pred, y_true=y)\n",
    "print(report)"
   ]
  },
  {
   "cell_type": "markdown",
   "metadata": {},
   "source": [
    "## Model 4\n",
    "\n",
    "- Algorithm : Gradient descent using the L-BFGS method\n",
    "- L1 regularization (c2=0.1)\n",
    "- L2 regularization (c2=0.1)"
   ]
  },
  {
   "cell_type": "code",
   "execution_count": 234,
   "metadata": {},
   "outputs": [
    {
     "name": "stdout",
     "output_type": "stream",
     "text": [
      "             precision    recall  f1-score   support\n",
      "\n",
      "      B-LOC       0.60      0.62      0.61      7140\n",
      "     B-MISC       0.50      0.36      0.42      3438\n",
      "      B-ORG       0.61      0.48      0.54      6321\n",
      "      B-PER       0.67      0.65      0.66      6600\n",
      "      I-LOC       0.57      0.44      0.50      1157\n",
      "     I-MISC       0.41      0.30      0.35      1155\n",
      "      I-ORG       0.48      0.56      0.52      3704\n",
      "      I-PER       0.73      0.85      0.79      4528\n",
      "          O       0.97      0.98      0.98    169578\n",
      "\n",
      "avg / total       0.91      0.91      0.91    203621\n",
      "\n",
      "Wall time: 15.9 s\n"
     ]
    }
   ],
   "source": [
    "%%time\n",
    "crf4 = CRF(algorithm='lbfgs',\n",
    "          c1=0.1,\n",
    "          c2=0.1,\n",
    "          max_iterations=100,\n",
    "          all_possible_transitions=False)\n",
    "\n",
    "#training model\n",
    "crf4.fit(X=X, y=y)\n",
    "\n",
    "#generate predictions\n",
    "pred = crf4.predict(X)\n",
    "\n",
    "#generate report on entire model\n",
    "report = flat_classification_report(y_pred=pred, y_true=y)\n",
    "print(report)"
   ]
  },
  {
   "cell_type": "code",
   "execution_count": 248,
   "metadata": {},
   "outputs": [
    {
     "data": {
      "text/plain": [
       "0.9129238920803084"
      ]
     },
     "execution_count": 248,
     "metadata": {},
     "output_type": "execute_result"
    }
   ],
   "source": [
    "#Overal Model performance\n",
    "Class_labels = list(crf.classes_)\n",
    "flat_f1_score(y, pred,average='weighted', labels=Class_labels)"
   ]
  },
  {
   "cell_type": "code",
   "execution_count": null,
   "metadata": {},
   "outputs": [],
   "source": []
  }
 ],
 "metadata": {
  "kernelspec": {
   "display_name": "Python 3",
   "language": "python",
   "name": "python3"
  },
  "language_info": {
   "codemirror_mode": {
    "name": "ipython",
    "version": 3
   },
   "file_extension": ".py",
   "mimetype": "text/x-python",
   "name": "python",
   "nbconvert_exporter": "python",
   "pygments_lexer": "ipython3",
   "version": "3.6.4"
  }
 },
 "nbformat": 4,
 "nbformat_minor": 2
}
