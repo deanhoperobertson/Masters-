{
 "cells": [
  {
   "cell_type": "code",
   "execution_count": null,
   "metadata": {
    "collapsed": false
   },
   "outputs": [],
   "source": [
    "from datetime import datetime\n",
    "#user prompt\n",
    "id_no = input('Please enter your ID number:\\n')\n",
    "\n",
    "#read in string elements\n",
    "date=id_no[:6]\n",
    "date = datetime.strptime(date, '%y%m%d').strftime('%d/%m/%y')\n",
    "gen = int(id_no[6:10])\n",
    "res = int(id_no[10])\n",
    "\n",
    "#decide gender\n",
    "if gen < 5000:\n",
    "    gen = \"female\"\n",
    "else:\n",
    "    gen = \"male\"\n",
    "\n",
    "#decide residency\n",
    "if res == 0 :\n",
    "    res = \"South African citizen\"\n",
    "elif res == 1:\n",
    "    res = \"permanent resident\"\n",
    "else:\n",
    "    res = \"Error\"\n",
    "\n",
    "mins = int(in_time[3:5])\n",
    "secs= int(in_time[6:8])\n",
    "ss = round(float(in_time[8:len(in_time)-3]),3)\n",
    "adjust = int(in_time[-3:])\n",
    "\n",
    "try:\n",
    "    print(\"Your data of birth is\",date,\"\\nYou are\",gen,\"\\nYou are a\", res)\n",
    "\n",
    "except ValueError:\n",
    "    print(\"Incorrect input !\") "
   ]
  },
  {
   "cell_type": "code",
   "execution_count": 1,
   "metadata": {
    "collapsed": true
   },
   "outputs": [],
   "source": [
    "def luhn(purported):\n",
    "\n",
    "    LUHN_ODD_LOOKUP = (0, 2, 4, 6, 8, 1, 3, 5, 7, 9)  # sum_of_digits (index * 2)\n",
    "    \n",
    "    if not isinstance(purported, str):\n",
    "        purported = str(purported)\n",
    "    try:\n",
    "        evens = sum(int(p) for p in purported[-1::-2])\n",
    "        odds = sum(LUHN_ODD_LOOKUP[int(p)] for p in purported[-2::-2])\n",
    "        return ((evens + odds) % 10 == 0)\n",
    "    except ValueError:  # Raised if an int conversion fails\n",
    "        return False"
   ]
  },
  {
   "cell_type": "code",
   "execution_count": 20,
   "metadata": {
    "collapsed": false
   },
   "outputs": [],
   "source": [
    "id_no = \"9001235074084\""
   ]
  },
  {
   "cell_type": "code",
   "execution_count": 21,
   "metadata": {
    "collapsed": false
   },
   "outputs": [
    {
     "data": {
      "text/plain": [
       "['9', '0', '0', '1', '2', '3', '5', '0', '7', '4', '0', '8', '4']"
      ]
     },
     "execution_count": 21,
     "metadata": {},
     "output_type": "execute_result"
    }
   ],
   "source": [
    "list(id_no)"
   ]
  },
  {
   "cell_type": "code",
   "execution_count": null,
   "metadata": {
    "collapsed": true
   },
   "outputs": [],
   "source": []
  }
 ],
 "metadata": {
  "anaconda-cloud": {},
  "kernelspec": {
   "display_name": "Python [Root]",
   "language": "python",
   "name": "Python [Root]"
  },
  "language_info": {
   "codemirror_mode": {
    "name": "ipython",
    "version": 3
   },
   "file_extension": ".py",
   "mimetype": "text/x-python",
   "name": "python",
   "nbconvert_exporter": "python",
   "pygments_lexer": "ipython3",
   "version": "3.5.2"
  }
 },
 "nbformat": 4,
 "nbformat_minor": 0
}
