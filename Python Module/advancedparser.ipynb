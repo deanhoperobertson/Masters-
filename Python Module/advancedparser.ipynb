{
 "cells": [
  {
   "cell_type": "code",
   "execution_count": 2,
   "metadata": {},
   "outputs": [
    {
     "name": "stdout",
     "output_type": "stream",
     "text": [
      "Please enter your ID number:\n",
      "9107030216083\n",
      "Your data of birth is 03/07/91 \n",
      "You are female \n",
      "You are a South African citizen\n"
     ]
    }
   ],
   "source": [
    "from datetime import datetime\n",
    "\n",
    "while True:\n",
    "    \n",
    "    try:\n",
    "        id_no = int(input('Please enter your ID number:\\n'))\n",
    "\n",
    "    except ValueError:\n",
    "        print(\"Incorrect ID number !\")\n",
    "        continue\n",
    "    \n",
    "    else: \n",
    "        break\n",
    "\n",
    "#read in string elements\n",
    "date=str(id_no)[:6]\n",
    "date = datetime.strptime(date, '%y%m%d').strftime('%d/%m/%y')\n",
    "gen = int(str(id_no)[6:10])\n",
    "res = int(str(id_no)[10])\n",
    "\n",
    "#define function to caculate the luhn agorithm \n",
    "def luhn(number):\n",
    "    array = list(map(int,list(number)))\n",
    "    odd_digits = array[-2::-2]\n",
    "    even_digits = array[-1::-2]\n",
    "    \n",
    "    checksum = 0\n",
    "    checksum = sum(odd_digits)\n",
    "    for digit in even_digits:\n",
    "        checksum += (digit*2)%9\n",
    "    return checksum % 10\n",
    "\n",
    "#decide gender\n",
    "if gen < 5000:\n",
    "    gen = \"female\"\n",
    "else:\n",
    "    gen = \"male\"\n",
    "    \n",
    "#decide residency\n",
    "if res == 0 :\n",
    "    res = \"South African citizen\"\n",
    "elif res == 1:\n",
    "    res = \"permanent resident\"\n",
    "else:\n",
    "    res = \"Error\"\n",
    "\n",
    "    \n",
    "if 10-luhn(str(id_no)[:-1]) == int(str(id_no)[-1]):\n",
    "    print(\"Your data of birth is\",date,\"\\nYou are\",gen,\"\\nYou are a\", res)\n",
    "\n",
    "else:\n",
    "    print(\"Invalid ID number\")\n",
    "    "
   ]
  },
  {
   "cell_type": "code",
   "execution_count": null,
   "metadata": {},
   "outputs": [],
   "source": []
  }
 ],
 "metadata": {
  "anaconda-cloud": {},
  "kernelspec": {
   "display_name": "Python 3",
   "language": "python",
   "name": "python3"
  },
  "language_info": {
   "codemirror_mode": {
    "name": "ipython",
    "version": 3
   },
   "file_extension": ".py",
   "mimetype": "text/x-python",
   "name": "python",
   "nbconvert_exporter": "python",
   "pygments_lexer": "ipython3",
   "version": "3.7.1"
  }
 },
 "nbformat": 4,
 "nbformat_minor": 1
}
