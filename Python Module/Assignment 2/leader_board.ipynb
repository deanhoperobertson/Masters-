{
 "cells": [
  {
   "cell_type": "code",
   "execution_count": 1,
   "metadata": {},
   "outputs": [],
   "source": [
    "def process_line(line):\n",
    "    parts = line.split(' ')\n",
    "    name = parts[0]\n",
    "    trials = int(parts[1])\n",
    "    average = float(parts[2])\n",
    "    return (name, trials, average)\n",
    "\n",
    "def get_max(entries):\n",
    "    max = entries[0]\n",
    "    for i in range(1, len(entries)):\n",
    "        if entries[i][2] <max[2]:\n",
    "            max = entries[i]\n",
    "            \n",
    "    entries.remove(max)\n",
    "    return max\n",
    "\n",
    "def sort(entries):\n",
    "    sorted_entries = []\n",
    "    while len(entries)>0:\n",
    "        sorted_entries.append(get_max(entries))\n",
    "    return sorted_entries\n",
    "\n",
    "def output(entries):\n",
    "    print('Subject        | Average Time')\n",
    "    print('************** | ************')\n",
    "    for entry in entries:\n",
    "        print('{:14} | {:.6}'.format(entry[0], entry[2]))"
   ]
  },
  {
   "cell_type": "code",
   "execution_count": 18,
   "metadata": {},
   "outputs": [
    {
     "name": "stdout",
     "output_type": "stream",
     "text": [
      "Enter the name of the file:\n",
      "error1.txt\n",
      "Line Number: 2 - ValueError\n",
      "could not convert string to float: 'small\\n'\n",
      "Line: Sheila 3 small\n",
      "\n"
     ]
    }
   ],
   "source": [
    "def main():\n",
    "    status = \"unknown\"\n",
    "    while not status == \"okay\":\n",
    "        try:\n",
    "            file_name = input('Enter the name of the file:\\n')\n",
    "            file_input = open(file_name, 'r')\n",
    "            status = \"okay\"\n",
    "        except IOError as err:\n",
    "            print(err)\n",
    "            \n",
    "    entries = []\n",
    "    \n",
    "    try: \n",
    "        for line in file_input:\n",
    "            entries.append(process_line(line))\n",
    "        file_input.close()\n",
    "        entries = sort(entries)\n",
    "        output(entries)\n",
    "    except (ValueError) as val_err:\n",
    "        print(\"Line Number:\",(len(entries)+1),\"- ValueError\")\n",
    "        print(val_err)\n",
    "        print(\"Line:\",line)\n",
    "        \n",
    "          \n",
    "main()"
   ]
  },
  {
   "cell_type": "code",
   "execution_count": null,
   "metadata": {},
   "outputs": [],
   "source": []
  }
 ],
 "metadata": {
  "kernelspec": {
   "display_name": "Python 3",
   "language": "python",
   "name": "python3"
  },
  "language_info": {
   "codemirror_mode": {
    "name": "ipython",
    "version": 3
   },
   "file_extension": ".py",
   "mimetype": "text/x-python",
   "name": "python",
   "nbconvert_exporter": "python",
   "pygments_lexer": "ipython3",
   "version": "3.7.1"
  }
 },
 "nbformat": 4,
 "nbformat_minor": 2
}
