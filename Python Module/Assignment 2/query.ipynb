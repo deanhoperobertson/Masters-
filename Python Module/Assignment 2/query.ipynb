{
 "cells": [
  {
   "cell_type": "code",
   "execution_count": 76,
   "metadata": {},
   "outputs": [],
   "source": [
    "#packages\n",
    "import pandas as pd\n",
    "from datetime import time"
   ]
  },
  {
   "cell_type": "code",
   "execution_count": 185,
   "metadata": {},
   "outputs": [],
   "source": [
    "#functions----------\n",
    "def print_list():\n",
    "    print(\"Available commands:\\nload <route number>\\nnext <embark_point> <from_time>\\narrival <embark_point> <embark_time> <destination>\\ndepartures <embark_point> <destination> <earliest_arrival> <latest_arrival>\")\n",
    "    \n",
    "def departure_exist(place,file_input):\n",
    "    places =[]\n",
    "    for line in file_input:\n",
    "        places.append(line.split(\" %\")[0])\n",
    "    if place in places:\n",
    "        return(True)\n",
    "    else:\n",
    "        return(False)\n",
    "def load_data(txt_file):\n",
    "    data = pd.read_csv(txt_file, header=None)\n",
    "    new = data[0].str.split(\" %\", expand=True)\n",
    "    data.drop(columns =[0], inplace = True) \n",
    "    data[0] = new[1]\n",
    "    data[\"Place\"] = new[0]\n",
    "    data=data[[\"Place\",0,1,2,3,4,5]]\n",
    "    data = data.set_index(\"Place\")\n",
    "    return(data)\n",
    "\n",
    "def convert_time(t1):\n",
    "    hour = int(t1.split(\":\")[0])\n",
    "    mins = int(t1.split(\":\")[1])\n",
    "    t1=time(hour,mins)\n",
    "    return(t1)\n",
    "\n",
    "def next_time(command):\n",
    "    place = command.split()[1]\n",
    "    t1 = convert_time(command.split()[2])\n",
    "    times = list(data.loc[place])\n",
    "    converted_times = [convert_time(time.strip()) for time in times]\n",
    "    converted_times = [x for x in converted_times if x >= t1]\n",
    "    if len(converted_times) ==0:\n",
    "        print(\"Sorry, no departures found\")\n",
    "    else: \n",
    "        print(\"The next bus departing from %s is at %s\" %(place,converted_times[0].strftime('%H:%M')))\n",
    "        \n",
    "def arrival(command): \n",
    "    place1 = command.split()[1]\n",
    "    place2 = command.split()[3]\n",
    "    t1 = convert_time(command.split()[2])\n",
    "    times1 = list(data.loc[place1])\n",
    "    converted_times1 = [convert_time(time.strip()) for time in times1]\n",
    "    converted_times1 = [x for x in converted_times1 if x >= t1]\n",
    "    times2 = list(data.loc[place2])\n",
    "    converted_times2 = [convert_time(time.strip()) for time in times2]\n",
    "    arrival_time=converted_times2[-len(converted_times1):][0]\n",
    "\n",
    "    if len(converted_times1) ==0:\n",
    "        print(\"Sorry, no departures found\")\n",
    "    else: \n",
    "        print(\"The next bus departing from %s arrives at %s at %s\" %(place1,place2,arrival_time.strftime('%H:%M')))\n",
    "    \n",
    "def convert_time_list(t2):\n",
    "    return(t2.strftime('%H:%M'))\n",
    "\n",
    "def departures(command):\n",
    "    place1 = command.split()[1]\n",
    "    place2 = command.split()[2]\n",
    "    t1 = convert_time(command.split()[3])\n",
    "    t2 = convert_time(command.split()[4])\n",
    "    times2 = list(data.loc[place2])\n",
    "    converted_times= [convert_time(time.strip()) for time in times2]\n",
    "    converted_times2 = [x for x in converted_times if x >= t1 and x <=t2]\n",
    "    loc1 = converted_times.index(converted_times2[0])\n",
    "    loc2 = converted_times.index(converted_times2[-1])\n",
    "\n",
    "    #departures\n",
    "    times2 = list(data.loc[place1])\n",
    "    converted_times1 = [convert_time(time.strip()) for time in times1]\n",
    "    ouput_times = converted_times1[loc1:loc2+1]\n",
    "    ouput_times = [convert_time_list(x) for x in ouput_times]\n",
    "\n",
    "    if len(ouput_times) ==0:\n",
    "            print(\"Sorry, no departures found\")\n",
    "    else: \n",
    "        print(\"Buses arriving at %s in that period depart from %s at\"%(place2,place1))\n",
    "        print(*ouput_times,sep = \", \")\n"
   ]
  },
  {
   "cell_type": "code",
   "execution_count": 187,
   "metadata": {},
   "outputs": [
    {
     "name": "stdout",
     "output_type": "stream",
     "text": [
      "please enter command:\n",
      "\n",
      ">help\n",
      "Available commands:\n",
      "load <route number>\n",
      "next <embark_point> <from_time>\n",
      "arrival <embark_point> <embark_time> <destination>\n",
      "departures <embark_point> <destination> <earliest_arrival> <latest_arrival>\n",
      ">load 66\n",
      "Done\n",
      ">next Mowbray 8:00\n",
      "The next bus departing from Mowbray is at 08:20\n",
      ">departures Mowbray Wynberg 7:30 13:00\n",
      "Buses arriving at Wynberg in that period depart from Mowbray at\n",
      "07:27, 08:20, 10:34, 12:11\n",
      ">departures Mowbray Wynberg 7:30 12:00\n",
      "Buses arriving at Wynberg in that period depart from Mowbray at\n",
      "07:27, 08:20, 10:34\n",
      ">quirt\n",
      ">quit\n"
     ]
    }
   ],
   "source": [
    "status = \"running\"\n",
    "\n",
    "print(\"please enter command:\\n\")\n",
    "while status is \"running\":\n",
    "    command = input(\">\")\n",
    "    if command ==\"quit\":\n",
    "        status=\"quit\"\n",
    "    elif command == \"help\":\n",
    "        print_list()\n",
    "        #break\n",
    "    elif command.split()[0] == \"load\":\n",
    "        data = load_data(command.split()[1]+\".txt\")\n",
    "        print(\"Done\")\n",
    "        #break\n",
    "    elif command.split()[0] == \"next\":\n",
    "        try:\n",
    "            next_time(command)\n",
    "        except NameError:\n",
    "            print(\"You must load a route first.\")\n",
    "    \n",
    "    elif command.split()[0] == \"arrival\":\n",
    "        try:\n",
    "            arrival(command)\n",
    "        except NameError:\n",
    "            print(\"You must load a route first.\")\n",
    "            \n",
    "    elif command.split()[0] == \"departures\":\n",
    "        try:\n",
    "            departures(command)\n",
    "        except NameError:\n",
    "            print(\"You must load a route first.\")\n",
    "\n"
   ]
  },
  {
   "cell_type": "code",
   "execution_count": 186,
   "metadata": {
    "scrolled": true
   },
   "outputs": [
    {
     "name": "stdout",
     "output_type": "stream",
     "text": [
      "Buses arriving at Wynberg in that period depart from Mowbray at\n",
      "07:27, 08:20, 10:34, 12:11\n"
     ]
    }
   ],
   "source": [
    "command = \"departures Mowbray Wynberg 7:30 13:00\"\n",
    "departures(command)"
   ]
  },
  {
   "cell_type": "code",
   "execution_count": null,
   "metadata": {},
   "outputs": [],
   "source": []
  }
 ],
 "metadata": {
  "kernelspec": {
   "display_name": "Python 3",
   "language": "python",
   "name": "python3"
  },
  "language_info": {
   "codemirror_mode": {
    "name": "ipython",
    "version": 3
   },
   "file_extension": ".py",
   "mimetype": "text/x-python",
   "name": "python",
   "nbconvert_exporter": "python",
   "pygments_lexer": "ipython3",
   "version": "3.7.1"
  }
 },
 "nbformat": 4,
 "nbformat_minor": 2
}
