{
 "cells": [
  {
   "cell_type": "markdown",
   "metadata": {},
   "source": [
    "## Using Pandas"
   ]
  },
  {
   "cell_type": "code",
   "execution_count": 85,
   "metadata": {},
   "outputs": [
    {
     "name": "stdout",
     "output_type": "stream",
     "text": [
      "Enter the name of the CSV file:\n",
      "testdata.csv\n",
      "   THIS WEEK  LAST YEAR    FSC             DAM NAME\n",
      "0        2.4        3.9    4.9         bulshoek dam\n",
      "1        1.5        4.2    4.9       calitzdorp dam\n",
      "2        7.0       10.3   17.3            ceres dam\n",
      "3       31.2      118.7  122.5      clanwilliam dam\n",
      "4        9.4       14.9   33.9  steenbras dam-lower\n",
      "5       26.1       27.6   31.9  steenbras dam-upper\n",
      "Total FSC is 215.4 million cubic metres.\n",
      "Currently at 36.0%.\n"
     ]
    }
   ],
   "source": [
    "import pandas as pd\n",
    "\n",
    "#prompt use for file name\n",
    "filename=input('Enter the name of the CSV file:\\n')\n",
    "\n",
    "data = pd.read_csv(filename)\n",
    "\n",
    "#rename columns\n",
    "data=data.rename(columns={\"dam\":\"DAM NAME\",\n",
    "                     \" last_year\": \"LAST YEAR\",\n",
    "                     \" fsc\":\"FSC\",\n",
    "                     \" this_week\":\"THIS WEEK\"})\n",
    "\n",
    "#subsect the data to only relevant columns \n",
    "data=data[[\"THIS WEEK\", \"LAST YEAR\", \"FSC\",\"DAM NAME\"]]\n",
    "\n",
    "#converting % to actual storage volumes\n",
    "data[\"THIS WEEK\"] = round((data[\"THIS WEEK\"]/100)*data[\"FSC\"],1)\n",
    "data[\"LAST YEAR\"] = round((data[\"LAST YEAR\"]/100)*data[\"FSC\"],1)\n",
    "\n",
    "total = round(data[\"FSC\"].sum(),1)\n",
    "percentage = round((data[\"THIS WEEK\"].sum()/total)*100,1)\n",
    "\n",
    "print(data)\n",
    "print(\"Total FSC is %s million cubic metres.\" %total)\n",
    "print(\"Currently at {}%.\".format(percentage))"
   ]
  },
  {
   "cell_type": "markdown",
   "metadata": {},
   "source": [
    "# Using CSV"
   ]
  },
  {
   "cell_type": "code",
   "execution_count": 47,
   "metadata": {},
   "outputs": [
    {
     "name": "stdout",
     "output_type": "stream",
     "text": [
      "Enter the name of the CSV file:\n",
      "test.csv\n",
      " THIS WEEK LAST YEAR       FSC DAM NAME\n",
      "       4.1      10.2      11.0 Elandskloof Dam\n",
      "\n",
      "Total FSC is 11.0 million cubic metres.\n",
      "Currently at 37.1%.\n"
     ]
    }
   ],
   "source": [
    "import csv\n",
    "\n",
    "#prompt use for file name\n",
    "filename=input('Enter the name of the CSV file:\\n')\n",
    "\n",
    "#read in the csv file\n",
    "file = open(filename,'r')\n",
    "data = csv.reader(file, delimiter=',')\n",
    "dictionary =  csv.DictReader(file, delimiter=',') #read in a dictionary to index from\n",
    "\n",
    "#get columns names in a list\n",
    "cols = dictionary.fieldnames\n",
    "cols = [x.strip() for x in cols]\n",
    "\n",
    "#retrieve indexes of the nessecary columns\n",
    "fsc_index = cols.index(\"fsc\")\n",
    "this_week_index = cols.index(\"this_week\")\n",
    "last_year_index = cols.index(\"last_year\")\n",
    "names_index = cols.index(\"dam\")\n",
    "\n",
    "#declare empty lists to be populated\n",
    "fsc = []\n",
    "this_week = []\n",
    "last_year = []\n",
    "names = []\n",
    "\n",
    "#define function for list multuplication\n",
    "def multiply_list(a,b):\n",
    "    output=[]\n",
    "    for x,y in zip(a,b):\n",
    "        output.append(x*y)\n",
    "    return(output)\n",
    "\n",
    "#run through data file extract the nessecary data points for specfic columns\n",
    "for file in data:\n",
    "    fsc.append(float(file[fsc_index]))\n",
    "    this_week.append(float(file[this_week_index]))\n",
    "    last_year.append(float(file[last_year_index]))\n",
    "    names.append(file[names_index])\n",
    "    \n",
    "#------------Calculations--------\n",
    "total = round(sum(fsc),1) #total FSC\n",
    "per = [x/100 for x in this_week] #this week as decimals \n",
    "this_week = multiply_list(per,fsc) # list multiplication\n",
    "per = [x/100 for x in last_year]#last year as decimals\n",
    "last_year = multiply_list(per,fsc) # list multiplication\n",
    "percentage= round((sum(this_week)/total)*100,1)\n",
    "\n",
    "#create a dictionaries to print from\n",
    "dd = {}\n",
    "dd['THIS WEEK'] = [round(x,1) for x in this_week]\n",
    "dd['LAST YEAR'] = [round(x,1) for x in last_year]\n",
    "dd['FSC'] = fsc\n",
    "dd['DAM NAME'] = names\n",
    "cols = ['THIS WEEK','LAST YEAR','FSC','DAM NAME']\n",
    "\n",
    "##---------------OUTPUT----------\n",
    "#print columns\n",
    "print(\"{:>10}{:>10}{:>10}{:>9}\".format(cols[0],cols[1], cols[2], cols[3]))\n",
    "\n",
    "#print data columns\n",
    "for i in range(len(dd['THIS WEEK'])):\n",
    "    print(\"{:>10}{:>10}{:>10}{:<10}\".format(dd['THIS WEEK'][i],dd['LAST YEAR'][i],dd['FSC'][i],\" \"+dd['DAM NAME'][i]))\n",
    "print(\"\\nTotal FSC is %s million cubic metres.\" %total)\n",
    "print(\"Currently at {}%.\".format(percentage))"
   ]
  },
  {
   "cell_type": "markdown",
   "metadata": {},
   "source": [
    "### Reader"
   ]
  },
  {
   "cell_type": "code",
   "execution_count": 107,
   "metadata": {},
   "outputs": [],
   "source": [
    "file =open('testdata.csv','r')\n",
    "reader =  csv.DictReader(file, delimiter=',')\n",
    "\n",
    "#columns names in a list\n",
    "cols = reader.fieldnames\n",
    "cols = [x.strip() for x in cols]\n"
   ]
  }
 ],
 "metadata": {
  "kernelspec": {
   "display_name": "Python 3",
   "language": "python",
   "name": "python3"
  },
  "language_info": {
   "codemirror_mode": {
    "name": "ipython",
    "version": 3
   },
   "file_extension": ".py",
   "mimetype": "text/x-python",
   "name": "python",
   "nbconvert_exporter": "python",
   "pygments_lexer": "ipython3",
   "version": "3.6.4"
  }
 },
 "nbformat": 4,
 "nbformat_minor": 2
}
