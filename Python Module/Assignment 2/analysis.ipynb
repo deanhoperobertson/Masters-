{
 "cells": [
  {
   "cell_type": "code",
   "execution_count": 137,
   "metadata": {},
   "outputs": [
    {
     "name": "stdout",
     "output_type": "stream",
     "text": [
      "Enter the name of the CSV file:\n",
      "testdata.csv\n",
      "   THIS WEEK  LAST YEAR    FSC             DAM NAME\n",
      "0        2.4        3.9    4.9         bulshoek dam\n",
      "1        1.5        4.2    4.9       calitzdorp dam\n",
      "2        7.0       10.3   17.3            ceres dam\n",
      "3       31.2      118.7  122.5      clanwilliam dam\n",
      "4        9.4       14.9   33.9  steenbras dam-lower\n",
      "5       26.1       27.6   31.9  steenbras dam-upper\n",
      "Total FSC is 215.4 million cubic metres.\n",
      "Currently at 36.0%.\n"
     ]
    }
   ],
   "source": [
    "import pandas as pd\n",
    "#prompt use for file name\n",
    "filename=input('Enter the name of the CSV file:\\n')\n",
    "\n",
    "data = pd.read_csv(filename)\n",
    "\n",
    "#rename columns\n",
    "data=data.rename(columns={\"dam\":\"DAM NAME\",\n",
    "                     \" last_year\": \"LAST YEAR\",\n",
    "                     \" fsc\":\"FSC\",\n",
    "                     \" this_week\":\"THIS WEEK\"})\n",
    "\n",
    "#subsect the data to only relevant columns \n",
    "data=data[[\"THIS WEEK\", \"LAST YEAR\", \"FSC\",\"DAM NAME\"]]\n",
    "\n",
    "#converting % to actual storage volumes\n",
    "data[\"THIS WEEK\"] = round((data[\"THIS WEEK\"]/100)*data[\"FSC\"],1)\n",
    "data[\"LAST YEAR\"] = round((data[\"LAST YEAR\"]/100)*data[\"FSC\"],1)\n",
    "\n",
    "total = round(data[\"FSC\"].sum(),1)\n",
    "percentage = round((data[\"THIS WEEK\"].sum()/total)*100,1)\n",
    "\n",
    "print(data)\n",
    "print(\"Total FSC is %s million cubic metres.\" %total)\n",
    "print(\"Currently at {}%.\".format(percentage))"
   ]
  },
  {
   "cell_type": "code",
   "execution_count": null,
   "metadata": {},
   "outputs": [],
   "source": []
  }
 ],
 "metadata": {
  "kernelspec": {
   "display_name": "Python 3",
   "language": "python",
   "name": "python3"
  },
  "language_info": {
   "codemirror_mode": {
    "name": "ipython",
    "version": 3
   },
   "file_extension": ".py",
   "mimetype": "text/x-python",
   "name": "python",
   "nbconvert_exporter": "python",
   "pygments_lexer": "ipython3",
   "version": "3.7.1"
  }
 },
 "nbformat": 4,
 "nbformat_minor": 2
}
