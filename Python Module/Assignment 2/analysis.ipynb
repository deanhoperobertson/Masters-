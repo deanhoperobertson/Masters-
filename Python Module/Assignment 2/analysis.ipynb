{
 "cells": [
  {
   "cell_type": "markdown",
   "metadata": {},
   "source": [
    "## Using Pandas"
   ]
  },
  {
   "cell_type": "code",
   "execution_count": 153,
   "metadata": {},
   "outputs": [
    {
     "name": "stdout",
     "output_type": "stream",
     "text": [
      "Enter the name of the CSV file:\n",
      "testdata.csv\n",
      "   THIS WEEK  LAST YEAR    FSC             DAM NAME\n",
      "0        2.4       79.5    4.9         bulshoek dam\n",
      "1        1.5       85.8    4.9       calitzdorp dam\n",
      "2        7.0       59.8   17.3            ceres dam\n",
      "3       31.2       96.9  122.5      clanwilliam dam\n",
      "4        9.4       44.0   33.9  steenbras dam-lower\n",
      "5       26.1       86.4   31.9  steenbras dam-upper\n",
      "Total FSC is 215.4 million cubic metres.\n",
      "Currently at 36.0%.\n"
     ]
    }
   ],
   "source": [
    "import pandas as pd\n",
    "import csv\n",
    "\n",
    "#prompt use for file name\n",
    "filename=input('Enter the name of the CSV file:\\n')\n",
    "\n",
    "data = pd.read_csv(filename)\n",
    "\n",
    "#rename columns\n",
    "data=data.rename(columns={\"dam\":\"DAM NAME\",\n",
    "                     \" last_year\": \"LAST YEAR\",\n",
    "                     \" fsc\":\"FSC\",\n",
    "                     \" this_week\":\"THIS WEEK\"})\n",
    "\n",
    "#subsect the data to only relevant columns \n",
    "data=data[[\"THIS WEEK\", \"LAST YEAR\", \"FSC\",\"DAM NAME\"]]\n",
    "\n",
    "#converting % to actual storage volumes\n",
    "data[\"THIS WEEK\"] = round((data[\"THIS WEEK\"]/100)*data[\"FSC\"],1)\n",
    "\n",
    "total = round(data[\"FSC\"].sum(),1)\n",
    "percentage = round((data[\"THIS WEEK\"].sum()/total)*100,1)\n",
    "\n",
    "print(data)\n",
    "print(\"Total FSC is %s million cubic metres.\" %total)\n",
    "print(\"Currently at {}%.\".format(percentage))"
   ]
  },
  {
   "cell_type": "markdown",
   "metadata": {},
   "source": [
    "# Using CSV"
   ]
  },
  {
   "cell_type": "code",
   "execution_count": 138,
   "metadata": {},
   "outputs": [
    {
     "name": "stdout",
     "output_type": "stream",
     "text": [
      "Total FSC is 215.4 million cubic metres.\n",
      "Currently at 36.0%.\n"
     ]
    }
   ],
   "source": [
    "import csv\n",
    "\n",
    "file =open('testdata.csv','r')\n",
    "data = csv.reader(file, delimiter=',')\n",
    "dictionary =  csv.DictReader(file, delimiter=',')\n",
    "\n",
    "#columns names in a list\n",
    "cols = dictionary.fieldnames\n",
    "cols = [x.strip() for x in cols]\n",
    "#retrieve indexes of FSC and this week columns\n",
    "fsc_index = cols.index(\"fsc\")\n",
    "this_week_index = cols.index(\"this_week\")\n",
    "\n",
    "fsc = []\n",
    "this_week = []\n",
    "\n",
    "def multiply_list(a,b):\n",
    "    output=[]\n",
    "    for x,y in zip(a,b):\n",
    "        output.append(round(x*y,1))\n",
    "    return(output)\n",
    "\n",
    "for file in data:\n",
    "    fsc.append(float(file[fsc_index]))\n",
    "    this_week.append(float(file[this_week_index]))\n",
    "\n",
    "total = round(sum(fsc),1)\n",
    "per = [x/100 for x in this_week]\n",
    "this_week = multiply_list(per,fsc)\n",
    "percentage= round((sum(this_week)/total)*100,1)\n",
    "\n",
    "print(\"Total FSC is %s million cubic metres.\" %total)\n",
    "print(\"Currently at {}%.\".format(percentage))"
   ]
  },
  {
   "cell_type": "code",
   "execution_count": 120,
   "metadata": {},
   "outputs": [
    {
     "name": "stdout",
     "output_type": "stream",
     "text": [
      "[' fsc', ' river', ' last_week', ' this_week']\n",
      "['4.9', ' olifants river', '45.8', '48.1']\n",
      "['4.9', ' nels river', '29.3', '29.8']\n",
      "['17.3', ' koekedou river', '40.9', '40.7']\n",
      "['122.5', ' olifants river', '22.9', '25.5']\n",
      "['33.9', ' steenbras river', '27.8', '27.7']\n",
      "['31.9', ' steenbras river', '71', '81.8']\n"
     ]
    }
   ],
   "source": [
    "import csv\n",
    "with open('testdata.csv') as csvfile:\n",
    "    readCSV = csv.reader(csvfile, delimiter=',')\n",
    "    total = []\n",
    "    for row in readCSV:\n",
    "        print(row[2:6])"
   ]
  },
  {
   "cell_type": "markdown",
   "metadata": {},
   "source": [
    "### Reader"
   ]
  },
  {
   "cell_type": "code",
   "execution_count": 107,
   "metadata": {},
   "outputs": [],
   "source": [
    "file =open('testdata.csv','r')\n",
    "reader =  csv.DictReader(file, delimiter=',')\n",
    "\n",
    "#columns names in a list\n",
    "cols = reader.fieldnames\n",
    "cols = [x.strip() for x in cols]\n"
   ]
  }
 ],
 "metadata": {
  "kernelspec": {
   "display_name": "Python 3",
   "language": "python",
   "name": "python3"
  },
  "language_info": {
   "codemirror_mode": {
    "name": "ipython",
    "version": 3
   },
   "file_extension": ".py",
   "mimetype": "text/x-python",
   "name": "python",
   "nbconvert_exporter": "python",
   "pygments_lexer": "ipython3",
   "version": "3.6.4"
  }
 },
 "nbformat": 4,
 "nbformat_minor": 2
}
