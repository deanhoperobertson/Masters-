{
 "cells": [
  {
   "cell_type": "markdown",
   "metadata": {},
   "source": [
    "## Do While Loop"
   ]
  },
  {
   "cell_type": "code",
   "execution_count": 2,
   "metadata": {},
   "outputs": [
    {
     "name": "stdout",
     "output_type": "stream",
     "text": [
      "Please enter your age: 4\n",
      "Please enter your age: 3\n",
      "Please enter your age: 5\n"
     ]
    }
   ],
   "source": [
    "while True:\n",
    "    age = int(input(\"Please enter your age: \"))\n",
    "    if age==5:\n",
    "        break"
   ]
  },
  {
   "cell_type": "markdown",
   "metadata": {},
   "source": [
    "## Populating dictionary"
   ]
  },
  {
   "cell_type": "code",
   "execution_count": 3,
   "metadata": {},
   "outputs": [
    {
     "name": "stdout",
     "output_type": "stream",
     "text": [
      "Please enter your name: dean\n",
      "Please enter your surname: robertson\n",
      "Please enter your age: 23\n",
      "Please enter your height: 195\n",
      "Please enter your weight: 40\n"
     ]
    }
   ],
   "source": [
    "person = {}\n",
    "for prop in [\"name\", \"surname\", \"age\", \"height\", \"weight\"]:\n",
    "    person[prop] = input(\"Please enter your %s: \" % prop)"
   ]
  },
  {
   "cell_type": "markdown",
   "metadata": {},
   "source": [
    "### Break Statement\n",
    "\n",
    "Inside the loop body, you can use the break statement to exit the loop immediately. "
   ]
  },
  {
   "cell_type": "code",
   "execution_count": 6,
   "metadata": {},
   "outputs": [
    {
     "name": "stdout",
     "output_type": "stream",
     "text": [
      "1\n",
      "2\n",
      "3\n",
      "4\n"
     ]
    }
   ],
   "source": [
    "x = 1\n",
    "while x <= 10:\n",
    "    if x == 5:\n",
    "        break\n",
    "    print(x)\n",
    "    x += 1"
   ]
  },
  {
   "cell_type": "markdown",
   "metadata": {},
   "source": [
    "### Continue Statement \n",
    "\n",
    "The continue statement is similar to the break statement, in that it causes the flow of control to exit the current\n",
    "loop body at the point of encounter – but the loop itself is not exited."
   ]
  },
  {
   "cell_type": "code",
   "execution_count": 4,
   "metadata": {},
   "outputs": [
    {
     "name": "stdout",
     "output_type": "stream",
     "text": [
      "1\n",
      "2\n",
      "3\n",
      "4\n",
      "6\n",
      "7\n",
      "8\n",
      "9\n",
      "10\n"
     ]
    }
   ],
   "source": [
    "for x in range(1, 10 + 1): # this will count from 1 to 10\n",
    "    if x == 5:\n",
    "        continue\n",
    "    print(x)"
   ]
  },
  {
   "cell_type": "code",
   "execution_count": 8,
   "metadata": {},
   "outputs": [
    {
     "name": "stdout",
     "output_type": "stream",
     "text": [
      "Enter an integer: 1\n",
      "Enter an integer: 2\n",
      "2\n",
      "Enter an integer: 3\n",
      "Enter an integer: 4\n",
      "4\n",
      "Enter an integer: 99\n"
     ]
    }
   ],
   "source": [
    "while (True):\n",
    "    num = int(input(\"Enter an integer: \"))\n",
    "    if num == 99:\n",
    "        break\n",
    "    if num % 2:\n",
    "        continue\n",
    "    print (num)"
   ]
  },
  {
   "cell_type": "markdown",
   "metadata": {},
   "source": [
    "## Populating List "
   ]
  },
  {
   "cell_type": "code",
   "execution_count": 9,
   "metadata": {},
   "outputs": [
    {
     "name": "stdout",
     "output_type": "stream",
     "text": [
      "Please enter positive integers to be averaged. Enter a negative integer to terminate the list.\n",
      "Enter a number: 3\n",
      "Enter a number: 4\n",
      "Enter a number: 5\n",
      "Enter a number: -1\n",
      "average = 4\n"
     ]
    }
   ],
   "source": [
    "print(\"Please enter positive integers to be averaged. Enter a negative integer to terminate the list.\")\n",
    "nums = []\n",
    "while True:\n",
    "    num = int(input(\"Enter a number: \"))\n",
    "    if num < 0:\n",
    "        break\n",
    "    nums.append(num)\n",
    "    \n",
    "average = float(sum(nums))/len(nums)\n",
    "print(\"average = %g\" % average)"
   ]
  },
  {
   "cell_type": "code",
   "execution_count": 10,
   "metadata": {},
   "outputs": [
    {
     "data": {
      "text/plain": [
       "[3, 4, 5]"
      ]
     },
     "execution_count": 10,
     "metadata": {},
     "output_type": "execute_result"
    }
   ],
   "source": []
  },
  {
   "cell_type": "code",
   "execution_count": null,
   "metadata": {},
   "outputs": [],
   "source": []
  }
 ],
 "metadata": {
  "kernelspec": {
   "display_name": "Python 3",
   "language": "python",
   "name": "python3"
  }
 },
 "nbformat": 4,
 "nbformat_minor": 2
}
