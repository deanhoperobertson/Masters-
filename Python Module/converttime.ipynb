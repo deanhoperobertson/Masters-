{
 "cells": [
  {
   "cell_type": "code",
   "execution_count": 138,
   "metadata": {
    "collapsed": false
   },
   "outputs": [
    {
     "name": "stdout",
     "output_type": "stream",
     "text": [
      "Enter a time (hh:mm:ss.sTZD):\n",
      "11:59:53.03+02\n",
      "The local time is 13: 59: 53: 0.03\n"
     ]
    }
   ],
   "source": [
    "#user prompt\n",
    "in_time = input('Enter a time (hh:mm:ss.sTZD):\\n')\n",
    "\n",
    "#read in string elements\n",
    "hour=int(in_time[:2])\n",
    "mins = int(in_time[3:5])\n",
    "secs= int(in_time[6:8])\n",
    "ss = round(float(in_time[8:len(in_time)-3]),3)\n",
    "adjust = int(in_time[-2:])\n",
    "\n",
    "#cal new hour\n",
    "new_hour = (hour+adjust)%24\n",
    "\n",
    "\n",
    "try:\n",
    "    print(\"The local time is\",\"{:02}:\".format(new_hour),\"{:02}:\".format(mins),\"{:02}:\".format(secs),\"{:000}\".format(ss) )\n",
    "\n",
    "except ValueError:\n",
    "    print(\"Incorrect input !\") "
   ]
  },
  {
   "cell_type": "code",
   "execution_count": 43,
   "metadata": {
    "collapsed": false
   },
   "outputs": [
    {
     "data": {
      "text/plain": [
       "'09'"
      ]
     },
     "execution_count": 43,
     "metadata": {},
     "output_type": "execute_result"
    }
   ],
   "source": [
    "(\"{:02}\").format(9)"
   ]
  },
  {
   "cell_type": "code",
   "execution_count": 23,
   "metadata": {
    "collapsed": false
   },
   "outputs": [
    {
     "data": {
      "text/plain": [
       "'11:59:53.03+02'"
      ]
     },
     "execution_count": 23,
     "metadata": {},
     "output_type": "execute_result"
    }
   ],
   "source": [
    "in_time"
   ]
  },
  {
   "cell_type": "code",
   "execution_count": 124,
   "metadata": {
    "collapsed": false
   },
   "outputs": [],
   "source": [
    "#read in string elements\n",
    "hour=int(in_time[:2])\n",
    "mins = int(in_time[3:5])\n",
    "secs= int(in_time[6:8])\n",
    "ss = round(float(in_time[8:len(in_time)-3]),3)\n",
    "adjust = int(in_time[-2:])\n",
    "\n",
    "#cal new hour\n",
    "new_hour = (hour+adjust)%23"
   ]
  },
  {
   "cell_type": "code",
   "execution_count": 148,
   "metadata": {
    "collapsed": false
   },
   "outputs": [
    {
     "data": {
      "text/plain": [
       "1"
      ]
     },
     "execution_count": 148,
     "metadata": {},
     "output_type": "execute_result"
    }
   ],
   "source": [
    "(23+2)%24"
   ]
  },
  {
   "cell_type": "code",
   "execution_count": 137,
   "metadata": {
    "collapsed": false
   },
   "outputs": [
    {
     "name": "stdout",
     "output_type": "stream",
     "text": [
      "The local time is 13: 59: 53: 0.03\n"
     ]
    }
   ],
   "source": [
    "print(\"The local time is\",\"{:02}:\".format(new_hour),\"{:02}:\".format(mins),\"{:02}:\".format(secs),\"{:000}\".format(ss) )"
   ]
  },
  {
   "cell_type": "code",
   "execution_count": null,
   "metadata": {
    "collapsed": true
   },
   "outputs": [],
   "source": []
  }
 ],
 "metadata": {
  "anaconda-cloud": {},
  "kernelspec": {
   "display_name": "Python [Root]",
   "language": "python",
   "name": "Python [Root]"
  },
  "language_info": {
   "codemirror_mode": {
    "name": "ipython",
    "version": 3
   },
   "file_extension": ".py",
   "mimetype": "text/x-python",
   "name": "python",
   "nbconvert_exporter": "python",
   "pygments_lexer": "ipython3",
   "version": "3.5.2"
  }
 },
 "nbformat": 4,
 "nbformat_minor": 0
}
