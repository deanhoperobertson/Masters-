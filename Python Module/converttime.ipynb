{
 "cells": [
  {
   "cell_type": "code",
   "execution_count": 75,
   "metadata": {},
   "outputs": [
    {
     "name": "stdout",
     "output_type": "stream",
     "text": [
      "Enter a time (hh:mm:ss.sTZD):\n",
      "23:59:59.99999889+03\n",
      "The local time is 03: 00: 00: 0.0\n"
     ]
    }
   ],
   "source": [
    "#user prompt\n",
    "in_time = input('Enter a time (hh:mm:ss.sTZD):\\n')\n",
    "\n",
    "#read in string elements\n",
    "hour=int(in_time[:2])\n",
    "mins = int(in_time[3:5])\n",
    "secs= int(in_time[6:8])\n",
    "ss = round(float(in_time[8:len(in_time)-3]),3)\n",
    "adjust = int(in_time[-3:])\n",
    "\n",
    "#cal new hour\n",
    "new_secs = secs+ss\n",
    "new_min = (mins + new_secs//60)\n",
    "new_hour = int((hour + new_min//60 +adjust)%24)\n",
    "#reset\n",
    "new_min = int(new_min%60)\n",
    "new_secs = int((secs+ss)%60)\n",
    "new_ss = ss%1\n",
    "\n",
    "\n",
    "try:\n",
    "    print(\"The local time is\",\"{:02}:\".format(new_hour),\"{:02}:\".format(new_min),\"{:02}:\".format(new_secs),\"{:000}\".format(new_ss) )\n",
    "\n",
    "except ValueError:\n",
    "    print(\"Incorrect input !\") "
   ]
  },
  {
   "cell_type": "code",
   "execution_count": 22,
   "metadata": {},
   "outputs": [],
   "source": [
    "#test it use these\n",
    "in_time = \"11:59:53.03+02\"\n",
    "x_time = \"00:09:53.523436-01\"\n",
    "y_time = \"23:59:59.99999889+03\""
   ]
  },
  {
   "cell_type": "code",
   "execution_count": null,
   "metadata": {},
   "outputs": [],
   "source": []
  }
 ],
 "metadata": {
  "anaconda-cloud": {},
  "kernelspec": {
   "display_name": "Python 3",
   "language": "python",
   "name": "python3"
  },
  "language_info": {
   "codemirror_mode": {
    "name": "ipython",
    "version": 3
   },
   "file_extension": ".py",
   "mimetype": "text/x-python",
   "name": "python",
   "nbconvert_exporter": "python",
   "pygments_lexer": "ipython3",
   "version": "3.7.1"
  }
 },
 "nbformat": 4,
 "nbformat_minor": 1
}
