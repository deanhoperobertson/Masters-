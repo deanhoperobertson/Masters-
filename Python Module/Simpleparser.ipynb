{
 "cells": [
  {
   "cell_type": "code",
   "execution_count": null,
   "metadata": {},
   "outputs": [],
   "source": [
    "#user prompt\n",
    "in_time = input('Please enter your ID number:\\n')\n",
    "\n",
    "#read in string elements\n",
    "birth=in_time[:6]\n",
    "mins = int(in_time[3:5])\n",
    "secs= int(in_time[6:8])\n",
    "ss = round(float(in_time[8:len(in_time)-3]),3)\n",
    "adjust = int(in_time[-3:])\n",
    "\n",
    "try:\n",
    "    print(\"Your data of birth is\",\"{:02}:\".format(new_hour),\"{:02}:\".format(new_min),\"{:02}:\".format(new_secs),\"{:000}\".format(new_ss) )\n",
    "\n",
    "except ValueError:\n",
    "    print(\"Incorrect input !\") "
   ]
  },
  {
   "cell_type": "code",
   "execution_count": 23,
   "metadata": {},
   "outputs": [],
   "source": [
    "in_time=\"9001235074084\"\n",
    "birth= int(in_time[:6])"
   ]
  },
  {
   "cell_type": "code",
   "execution_count": 26,
   "metadata": {},
   "outputs": [
    {
     "data": {
      "text/plain": [
       "('Your data of birth is', '900123:')"
      ]
     },
     "execution_count": 26,
     "metadata": {},
     "output_type": "execute_result"
    }
   ],
   "source": [
    "\"Your data of birth is\",\"{:02}:\".format(birth)"
   ]
  },
  {
   "cell_type": "code",
   "execution_count": null,
   "metadata": {},
   "outputs": [],
   "source": []
  }
 ],
 "metadata": {
  "kernelspec": {
   "display_name": "Python 3",
   "language": "python",
   "name": "python3"
  }
 },
 "nbformat": 4,
 "nbformat_minor": 2
}
