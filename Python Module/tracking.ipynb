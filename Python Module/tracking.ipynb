{
 "cells": [
  {
   "cell_type": "markdown",
   "metadata": {},
   "source": [
    "## Final Prgaramme"
   ]
  },
  {
   "cell_type": "code",
   "execution_count": 3,
   "metadata": {
    "collapsed": false
   },
   "outputs": [
    {
     "name": "stdout",
     "output_type": "stream",
     "text": [
      "Please enter the animal identity codes. (Press return when done)\n",
      "\n",
      "Animal no. 1\n",
      "ff\n",
      "Animal no. 2\n",
      "ewfgf\n",
      "Animal no. 3\n",
      "quit\n"
     ]
    }
   ],
   "source": [
    "command = \"go\"\n",
    "animals = []\n",
    "\n",
    "print(\"Please enter the animal identity codes. (Press return when done)\\n\")\n",
    "\n",
    "while not command ==\"quit\": \n",
    "    \n",
    "    i=1\n",
    "    while command !=\"quit\":\n",
    "        print(\"Animal no.\",i)\n",
    "        id_no = input(\"\")\n",
    "        if id_no == \"quit\":\n",
    "            command = \"quit\"\n",
    "            break\n",
    "        elif id_no == \"\":\n",
    "            i=\"\"\n",
    "            break\n",
    "        animals.append(id_no)\n",
    "        i += 1\n",
    "        \n",
    "#---------------------------------FUNCTIONS------------    \n",
    "    def create_dict(animals):\n",
    "        person = {}\n",
    "        for item in animals:\n",
    "            person[item] = \"\"\n",
    "        return(person)\n",
    "    \n",
    "    def recognize(string):\n",
    "        command = string.split()[0]\n",
    "        if command == \"Print\" or command == \"Print\".lower():\n",
    "            return \"print\"\n",
    "        elif command == \"Log\" or command == \"Log\".lower():\n",
    "            return \"log\"\n",
    "        else:\n",
    "            return \"unrecognisable\"\n",
    "    \n",
    "    def print_dic(dictionary):\n",
    "        for key in dictionary:\n",
    "            if dictionary[key]==\"\":\n",
    "                print(\"Animal\",key,\"cannot be located\")\n",
    "            else:\n",
    "                print(\"Animal\",key,\"last seen at (%s,%s)\"%(dictionary[key][0],dictionary[key][1]))\n",
    "    \n",
    "    def command_split(string):\n",
    "        return {string.split()[1]:(string.split()[2],string.split()[3])}\n",
    "    \n",
    "    def isnumber(string):\n",
    "        return str.isdigit(id_no.split()[2]) and str.isdigit(id_no.split()[3])\n",
    "#---------------------------------------------------- \n",
    "    \n",
    "    #populate the dictionary\n",
    "    dic = create_dict(animals)\n",
    "\n",
    "    while command !=\"quit\": \n",
    "        print(\"Commands: Print, log animal_id x_ord y_ord, quit.\")\n",
    "        id_no = input(\"\")\n",
    "        if id_no == \"quit\":\n",
    "            command = \"quit\"\n",
    "            break\n",
    "        elif recognize(id_no) == \"print\":\n",
    "            print_dic(dic)\n",
    "            #command = \"quit\"\n",
    "        elif recognize(id_no) == \"unrecognisable\":\n",
    "            print(\"Could not interpret command\")\n",
    "            \n",
    "        elif recognize(id_no) == \"log\" and isnumber(id_no) == True:\n",
    "            dic.update(command_split(id_no))\n",
    "            #command = \"quit\"\n",
    "        elif recognize(id_no) == \"log\" and isnumber(id_no) == False:\n",
    "            print(\"The ordinates should be intergers\")\n",
    "            "
   ]
  },
  {
   "cell_type": "markdown",
   "metadata": {},
   "source": [
    "## Other Notes"
   ]
  },
  {
   "cell_type": "markdown",
   "metadata": {},
   "source": [
    "#### Code to split command "
   ]
  },
  {
   "cell_type": "code",
   "execution_count": 9,
   "metadata": {
    "collapsed": false
   },
   "outputs": [
    {
     "data": {
      "text/plain": [
       "['log', 'e42f4', '32', '43']"
      ]
     },
     "execution_count": 9,
     "metadata": {},
     "output_type": "execute_result"
    }
   ],
   "source": [
    "def command_split(string):\n",
    "    return {string.split()[1]:(string.split()[2],string.split()[3])}\n",
    "\n",
    "command_split(\"log e42f4 32 43\")"
   ]
  },
  {
   "cell_type": "markdown",
   "metadata": {},
   "source": [
    "#### Code recognize command"
   ]
  },
  {
   "cell_type": "code",
   "execution_count": 1,
   "metadata": {
    "collapsed": false
   },
   "outputs": [
    {
     "data": {
      "text/plain": [
       "'log'"
      ]
     },
     "execution_count": 1,
     "metadata": {},
     "output_type": "execute_result"
    }
   ],
   "source": [
    "def recognize(string):\n",
    "    command = string.split()[0]\n",
    "    if command == \"Print\" or command == \"Print\".lower():\n",
    "        return \"print\"\n",
    "    elif command == \"Log\" or command == \"Log\".lower():\n",
    "        return \"log\"\n",
    "    else:\n",
    "        return \"unrecognisable\"\n",
    "\n",
    "#test \n",
    "recognize(\"Log fhehf 40 23\")"
   ]
  },
  {
   "cell_type": "markdown",
   "metadata": {},
   "source": [
    "#### Code to Read in Series"
   ]
  },
  {
   "cell_type": "code",
   "execution_count": null,
   "metadata": {
    "collapsed": false
   },
   "outputs": [
    {
     "name": "stdout",
     "output_type": "stream",
     "text": [
      "Please enter the animal identity codes. (Press return when done)\n",
      "\n",
      "Animal no. 1\n"
     ]
    }
   ],
   "source": [
    "print(\"Please enter the animal identity codes. (Press return when done)\\n\")\n",
    "animals = []\n",
    "i = 1\n",
    "while True:\n",
    "    print(\"Animal no.\",i)\n",
    "    id_no =input(\"\")\n",
    "    if id_no == \"quit\":\n",
    "        break\n",
    "    animals.append(id_no)\n",
    "    i +=1\n",
    "print(\"terminated\")"
   ]
  },
  {
   "cell_type": "markdown",
   "metadata": {},
   "source": [
    "#### Print all last known locations"
   ]
  },
  {
   "cell_type": "code",
   "execution_count": 25,
   "metadata": {
    "collapsed": false
   },
   "outputs": [
    {
     "name": "stdout",
     "output_type": "stream",
     "text": [
      "Animal ad33o last seen at (1,10)\n",
      "Animal gdfh8 last seen at (2,3)\n",
      "Animal fjwef cannot be located\n"
     ]
    }
   ],
   "source": [
    "fake_dic = {\"ad33o\": (1,10),\n",
    "           \"gdfh8\": (2,3),\n",
    "           \"fjwef\": \"\"}\n",
    "\n",
    "def print_dic(dictionary):\n",
    "    for key in dictionary:\n",
    "        if dictionary[key]==\"\":\n",
    "            print(\"Animal\",key,\"cannot be located\")\n",
    "        else:\n",
    "            print(\"Animal\",key,\"last seen at (%s,%s)\"%(dictionary[key][0],dictionary[key][1]))\n",
    "#test    \n",
    "print_dic(fake_dic)"
   ]
  },
  {
   "cell_type": "markdown",
   "metadata": {},
   "source": [
    "#### Code for print location of an Animal"
   ]
  },
  {
   "cell_type": "code",
   "execution_count": 66,
   "metadata": {
    "collapsed": false
   },
   "outputs": [
    {
     "name": "stdout",
     "output_type": "stream",
     "text": [
      "Animal gdfh8 last seen at (2,3)\n"
     ]
    }
   ],
   "source": [
    "def print_known(dictionary, animal):\n",
    "    if animal in fake_dic.keys():\n",
    "        if dictionary[animal]==\"\":\n",
    "            print(\"Animal\",animal,\"cannot be located\")\n",
    "        else:\n",
    "            print(\"Animal\",animal,\"last seen at (%s,%s)\"%(dictionary[animal][0],dictionary[animal][1]))\n",
    "    else:\n",
    "        print(\"Animal not in dictionay\")\n",
    "        \n",
    "#Test funtion\n",
    "animal = \"gdfh8\"\n",
    "print_known(fake_dic,animal)"
   ]
  },
  {
   "cell_type": "markdown",
   "metadata": {},
   "source": [
    "#### Code for updating dictionary"
   ]
  },
  {
   "cell_type": "code",
   "execution_count": 17,
   "metadata": {
    "collapsed": false
   },
   "outputs": [
    {
     "data": {
      "text/plain": [
       "{'ad33o': (1, 10), 'fjwef': (1, 3), 'gdfh8': (2, 3)}"
      ]
     },
     "execution_count": 17,
     "metadata": {},
     "output_type": "execute_result"
    }
   ],
   "source": [
    "fake_dic = {\"ad33o\": (1,10),\n",
    "           \"gdfh8\": (2,3),\n",
    "           \"fjwef\": \"\"}\n",
    "\n",
    "addition = {\"fjwef\":(1,3)}\n",
    "\n",
    "fake_dic.update(addition)\n",
    "\n",
    "#test\n",
    "fake_dic"
   ]
  },
  {
   "cell_type": "markdown",
   "metadata": {},
   "source": [
    "#### Create Data structure"
   ]
  },
  {
   "cell_type": "code",
   "execution_count": 8,
   "metadata": {
    "collapsed": false
   },
   "outputs": [
    {
     "data": {
      "text/plain": [
       "{'Fwef': '', 'fesf': '', 'wefgew': ''}"
      ]
     },
     "execution_count": 8,
     "metadata": {},
     "output_type": "execute_result"
    }
   ],
   "source": [
    "test = [\"wefgew\", \"Fwef\", \"fesf\"]\n",
    "\n",
    "def create_dict(animals):\n",
    "    person = {}\n",
    "    for item in animals:\n",
    "        person[item] = \"\"\n",
    "    return(person)\n",
    "\n",
    "create_dict(test)"
   ]
  }
 ],
 "metadata": {
  "kernelspec": {
   "display_name": "Python [Root]",
   "language": "python",
   "name": "Python [Root]"
  },
  "language_info": {
   "codemirror_mode": {
    "name": "ipython",
    "version": 3
   },
   "file_extension": ".py",
   "mimetype": "text/x-python",
   "name": "python",
   "nbconvert_exporter": "python",
   "pygments_lexer": "ipython3",
   "version": "3.5.2"
  }
 },
 "nbformat": 4,
 "nbformat_minor": 2
}
