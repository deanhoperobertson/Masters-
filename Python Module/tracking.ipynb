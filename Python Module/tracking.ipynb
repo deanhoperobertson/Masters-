{
 "cells": [
  {
   "cell_type": "code",
   "execution_count": 2,
   "metadata": {},
   "outputs": [
    {
     "name": "stdout",
     "output_type": "stream",
     "text": [
      "Please enter the animal identity codes. (Press return when done)\n",
      "\n",
      "Animal no. 1\n",
      "wef\n",
      "Animal no. 2\n",
      "wev\n",
      "Animal no. 3\n",
      "wve\n",
      "Animal no. 4\n",
      "quit\n",
      "Program terminated\n"
     ]
    }
   ],
   "source": [
    "programe = True\n",
    "\n",
    "while programe:\n",
    "    print(\"Please enter the animal identity codes. (Press return when done)\\n\")\n",
    "    \n",
    "    id_no=0\n",
    "    i=1\n",
    "    while i != \"\":\n",
    "        print(\"Animal no.\",i)\n",
    "        id_no = input(\"\")\n",
    "        if id_no == \"quit\":\n",
    "            programe = False\n",
    "            break\n",
    "        i += 1\n",
    "    print(\"Program terminated\")"
   ]
  },
  {
   "cell_type": "code",
   "execution_count": 69,
   "metadata": {},
   "outputs": [
    {
     "name": "stdout",
     "output_type": "stream",
     "text": [
      "Please enter the animal identity codes. (Press return when done)\n",
      "\n",
      "Animal no. 1\n",
      "hf\n",
      "Animal no. 2\n",
      "ae\n",
      "Animal no. 3\n",
      "aev\n",
      "Animal no. 4\n",
      "quit\n"
     ]
    }
   ],
   "source": [
    "animals = list()\n",
    "\n",
    "print(\"Please enter the animal identity codes. (Press return when done)\\n\")\n",
    "i=1\n",
    "\n",
    "while i != \"\":\n",
    "    print(\"Animal no.\",i)\n",
    "    id_no = input(\"\")\n",
    "    animals.append(id_no)\n",
    "    if id_no == \"quit\":\n",
    "        #programe = False\n",
    "        break\n",
    "    elif id_no == \"print\":\n",
    "        print(\"hello\")\n",
    "        break\n",
    "    i += 1\n",
    "\n",
    "#create dictionary with animal data\n",
    "dic ={}\n",
    "\n",
    "#create a print command response\n",
    "\n",
    "#create log reponse\n",
    "\n"
   ]
  },
  {
   "cell_type": "markdown",
   "metadata": {},
   "source": [
    "### Code to split command "
   ]
  },
  {
   "cell_type": "code",
   "execution_count": 9,
   "metadata": {},
   "outputs": [
    {
     "data": {
      "text/plain": [
       "['log', 'e42f4', '32', '43']"
      ]
     },
     "execution_count": 9,
     "metadata": {},
     "output_type": "execute_result"
    }
   ],
   "source": [
    "def command_split(string):\n",
    "    return string.split()\n",
    "\n",
    "command_split(\"log e42f4 32 43\")"
   ]
  },
  {
   "cell_type": "markdown",
   "metadata": {},
   "source": [
    "### Code recognize command"
   ]
  },
  {
   "cell_type": "code",
   "execution_count": 24,
   "metadata": {},
   "outputs": [
    {
     "data": {
      "text/plain": [
       "'Log'"
      ]
     },
     "execution_count": 24,
     "metadata": {},
     "output_type": "execute_result"
    }
   ],
   "source": [
    "def recognize(string):\n",
    "    command = string.split()[0]\n",
    "    if command == \"Print\" or command == \"Print\".lower():\n",
    "        return \"Print\"\n",
    "    elif command == \"Log\" or command == \"Log\".lower():\n",
    "        return \"Log\"\n",
    "    else:\n",
    "        return \"unrecognisable\"\n",
    "\n",
    "#test \n",
    "recognize(\"Log fhehf 40 23\")"
   ]
  },
  {
   "cell_type": "markdown",
   "metadata": {},
   "source": [
    "### Code to Read in Series"
   ]
  },
  {
   "cell_type": "code",
   "execution_count": 5,
   "metadata": {},
   "outputs": [
    {
     "name": "stdout",
     "output_type": "stream",
     "text": [
      "Please enter the animal identity codes. (Press return when done)\n",
      "\n",
      "Animal no. 1\n",
      "ehfe\n",
      "Animal no. 2\n",
      "4634yg\n",
      "Animal no. 3\n",
      "rgre\n",
      "Animal no. 4\n",
      "quit\n",
      "terminated\n"
     ]
    }
   ],
   "source": [
    "print(\"Please enter the animal identity codes. (Press return when done)\\n\")\n",
    "animals = []\n",
    "i = 1\n",
    "while True:\n",
    "    print(\"Animal no.\",i)\n",
    "    id_no =input(\"\")\n",
    "    if id_no == \"quit\":\n",
    "        break\n",
    "    animals.append(id_no)\n",
    "    i +=1\n",
    "print(\"terminated\")"
   ]
  },
  {
   "cell_type": "markdown",
   "metadata": {},
   "source": [
    "### Print all last known locations"
   ]
  },
  {
   "cell_type": "code",
   "execution_count": 25,
   "metadata": {},
   "outputs": [
    {
     "name": "stdout",
     "output_type": "stream",
     "text": [
      "Animal ad33o last seen at (1,10)\n",
      "Animal gdfh8 last seen at (2,3)\n",
      "Animal fjwef cannot be located\n"
     ]
    }
   ],
   "source": [
    "fake_dic = {\"ad33o\": (1,10),\n",
    "           \"gdfh8\": (2,3),\n",
    "           \"fjwef\": \"\"}\n",
    "\n",
    "def print_dic(dictionary):\n",
    "    for key in dictionary:\n",
    "        if dictionary[key]==\"\":\n",
    "            print(\"Animal\",key,\"cannot be located\")\n",
    "        else:\n",
    "            print(\"Animal\",key,\"last seen at (%s,%s)\"%(dictionary[key][0],dictionary[key][1]))\n",
    "#test    \n",
    "print_dic(fake_dic)"
   ]
  },
  {
   "cell_type": "markdown",
   "metadata": {},
   "source": [
    "### Code for print location of an Animal"
   ]
  },
  {
   "cell_type": "code",
   "execution_count": 66,
   "metadata": {},
   "outputs": [
    {
     "name": "stdout",
     "output_type": "stream",
     "text": [
      "Animal gdfh8 last seen at (2,3)\n"
     ]
    }
   ],
   "source": [
    "def print_known(dictionary, animal):\n",
    "    if animal in fake_dic.keys():\n",
    "        if dictionary[animal]==\"\":\n",
    "            print(\"Animal\",animal,\"cannot be located\")\n",
    "        else:\n",
    "            print(\"Animal\",animal,\"last seen at (%s,%s)\"%(dictionary[animal][0],dictionary[animal][1]))\n",
    "    else:\n",
    "        print(\"Animal not in dictionay\")\n",
    "        \n",
    "#Test funtion\n",
    "animal = \"gdfh8\"\n",
    "print_known(fake_dic,animal)"
   ]
  },
  {
   "cell_type": "markdown",
   "metadata": {},
   "source": [
    "### Code for updating dictionary"
   ]
  },
  {
   "cell_type": "code",
   "execution_count": 45,
   "metadata": {},
   "outputs": [
    {
     "data": {
      "text/plain": [
       "{'ad33o': (1, 10), 'gdfh8': (2, 3), 'fjwef': '', 'test': (1, 3)}"
      ]
     },
     "execution_count": 45,
     "metadata": {},
     "output_type": "execute_result"
    }
   ],
   "source": [
    "fake_dic = {\"ad33o\": (1,10),\n",
    "           \"gdfh8\": (2,3),\n",
    "           \"fjwef\": \"\"}\n",
    "\n",
    "addition = {\"test\":(1,3)}\n",
    "\n",
    "fake_dic.update(addition)\n",
    "\n",
    "#test\n",
    "fake_dic"
   ]
  },
  {
   "cell_type": "code",
   "execution_count": null,
   "metadata": {},
   "outputs": [],
   "source": [
    "#Example\n",
    "\n",
    "person = {}\n",
    "for prop in [\"name\", \"surname\", \"age\", \"height\", \"weight\"]:\n",
    "    person[prop] = input(\"Please enter your %s: \" % prop)"
   ]
  }
 ],
 "metadata": {
  "kernelspec": {
   "display_name": "Python 3",
   "language": "python",
   "name": "python3"
  },
  "language_info": {
   "codemirror_mode": {
    "name": "ipython",
    "version": 3
   },
   "file_extension": ".py",
   "mimetype": "text/x-python",
   "name": "python",
   "nbconvert_exporter": "python",
   "pygments_lexer": "ipython3",
   "version": "3.7.1"
  }
 },
 "nbformat": 4,
 "nbformat_minor": 2
}
