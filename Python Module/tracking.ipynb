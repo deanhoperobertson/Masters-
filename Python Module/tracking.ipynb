{
 "cells": [
  {
   "cell_type": "code",
   "execution_count": 2,
   "metadata": {},
   "outputs": [
    {
     "name": "stdout",
     "output_type": "stream",
     "text": [
      "Please enter the animal identity codes. (Press return when done)\n",
      "\n",
      "Animal no. 1\n",
      "jhew\n",
      "Animal no. 2\n",
      "ecw\n",
      "Animal no. 3\n",
      "\n"
     ]
    }
   ],
   "source": [
    "programe = True\n",
    "\n",
    "while programe:\n",
    "    print(\"Please enter the animal identity codes. (Press return when done)\\n\")\n",
    "    \n",
    "    id_no=0\n",
    "    i=1\n",
    "    while i != \"\":\n",
    "        print(\"Animal no.\",i)\n",
    "        id_no = input(\"\")\n",
    "        if id_no == \"\":\n",
    "            programe = False\n",
    "            break\n",
    "        i += 1"
   ]
  },
  {
   "cell_type": "code",
   "execution_count": 18,
   "metadata": {},
   "outputs": [
    {
     "name": "stdout",
     "output_type": "stream",
     "text": [
      "Please enter the animal identity codes. (Press return when done)\n",
      "\n",
      "Animal no. 1\n",
      "jhqw\n",
      "Animal no. 2\n",
      "efe\n",
      "Animal no. 3\n",
      "ewc\n",
      "Animal no. 4\n",
      "\n"
     ]
    }
   ],
   "source": [
    "animals = list()\n",
    "\n",
    "print(\"Please enter the animal identity codes. (Press return when done)\\n\")\n",
    "i=1\n",
    "\n",
    "while i != \"\":\n",
    "    print(\"Animal no.\",i)\n",
    "    id_no = input(\"\")\n",
    "    animals.append(id_no)\n",
    "    if id_no == \"\":\n",
    "        #programe = False\n",
    "        break\n",
    "    elif id_no == \"print\":\n",
    "        print(\"\")\n",
    "        break\n",
    "    i += 1\n",
    "\n"
   ]
  },
  {
   "cell_type": "code",
   "execution_count": 17,
   "metadata": {},
   "outputs": [
    {
     "name": "stdout",
     "output_type": "stream",
     "text": [
      "Animal wqfwf cannot be located\n",
      "Animal cqef cannot be located\n",
      "Animal qwfec cannot be located\n",
      "Animal  cannot be located\n"
     ]
    }
   ],
   "source": [
    "for i in animals:\n",
    "    print(\"Animal\",i,\"cannot be located\")"
   ]
  },
  {
   "cell_type": "code",
   "execution_count": null,
   "metadata": {},
   "outputs": [],
   "source": []
  }
 ],
 "metadata": {
  "kernelspec": {
   "display_name": "Python 3",
   "language": "python",
   "name": "python3"
  }
 },
 "nbformat": 4,
 "nbformat_minor": 2
}
