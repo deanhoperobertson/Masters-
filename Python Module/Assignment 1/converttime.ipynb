{
 "cells": [
  {
   "cell_type": "code",
   "execution_count": 272,
   "metadata": {},
   "outputs": [
    {
     "name": "stdout",
     "output_type": "stream",
     "text": [
      "Enter a time (hh:mm:ss.sTZD):\n",
      "00:09:53.523436-01\n",
      "The local time is 23:09:53:523\n"
     ]
    }
   ],
   "source": [
    "#user prompt\n",
    "in_time = input('Enter a time (hh:mm:ss.sTZD):\\n')\n",
    "\n",
    "#read in string elements\n",
    "hour=int(in_time[:2]) #first two elements for hours\n",
    "mins = int(in_time[3:5]) #second two elements for mins\n",
    "secs= int(in_time[6:8]) #third two elements for seconds\n",
    "ss = round(float(in_time[8:len(in_time)-3]),3) \n",
    "adjust = int(in_time[-3:]) #read in adjustements\n",
    "\n",
    "#calcuate new time\n",
    "new_secs = secs+ss\n",
    "new_min = (mins + new_secs//60)\n",
    "new_hour = int((hour + new_min//60 +adjust)%24)\n",
    "#reset time elements for output\n",
    "new_min = int(new_min%60)\n",
    "new_secs = int((secs+ss)%60)\n",
    "new_ss = int(((ss%1)%1)*1000)\n",
    "\n",
    "\n",
    "#try:\n",
    "    #print(\"The local time is\",\"{:02}:\".format(new_hour),\"{:02}:\".format(new_min),\"{:02}:\".format(new_secs),\"{0:.3f}\".format(new_ss) )\n",
    "#   print(\"The local time is {:02}:{:02}:{:02}:{:03d}\".format(new_hour,new_min,new_secs,new_ss))\n",
    "#except ValueError:\n",
    "#   print(\"Incorrect input !\") \n",
    "\n",
    "print(\"The local time is {:02}:{:02}:{:02}:{:03d}\".format(new_hour,new_min,new_secs,new_ss))"
   ]
  },
  {
   "cell_type": "code",
   "execution_count": null,
   "metadata": {},
   "outputs": [],
   "source": []
  }
 ],
 "metadata": {
  "anaconda-cloud": {},
  "kernelspec": {
   "display_name": "Python 3",
   "language": "python",
   "name": "python3"
  },
  "language_info": {
   "codemirror_mode": {
    "name": "ipython",
    "version": 3
   },
   "file_extension": ".py",
   "mimetype": "text/x-python",
   "name": "python",
   "nbconvert_exporter": "python",
   "pygments_lexer": "ipython3",
   "version": "3.7.1"
  }
 },
 "nbformat": 4,
 "nbformat_minor": 1
}
