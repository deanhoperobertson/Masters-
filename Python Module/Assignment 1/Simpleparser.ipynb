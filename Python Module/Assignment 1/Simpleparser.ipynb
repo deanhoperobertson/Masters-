{
 "cells": [
  {
   "cell_type": "code",
   "execution_count": 23,
   "metadata": {},
   "outputs": [
    {
     "name": "stdout",
     "output_type": "stream",
     "text": [
      "Please enter your ID number:\n",
      "9001235074084\n",
      "Your data of birth is 23/01/90 \n",
      "You are male.\n",
      "You are a South African citizen.\n"
     ]
    }
   ],
   "source": [
    "from datetime import datetime \n",
    "\n",
    "#user prompt\n",
    "id_no = input('Please enter your ID number:\\n')\n",
    "\n",
    "#read in string elements\n",
    "date=id_no[:6]\n",
    "#parses string date according to format and restruct into correct string format\n",
    "date = datetime.strptime(date, '%y%m%d').strftime('%d/%m/%y') \n",
    "gen = int(id_no[6:10]) #convert string to intergers\n",
    "res = int(id_no[10]) #convert string to intergers\n",
    "\n",
    "#control statment to determine gender\n",
    "if gen < 5000:\n",
    "    gen = \"female\"\n",
    "else:\n",
    "    gen = \"male\"\n",
    "\n",
    "#control statment to determine gender residency\n",
    "if res == 0 :\n",
    "    res = \"South African citizen\"\n",
    "elif res == 1:\n",
    "    res = \"permanent resident\"\n",
    "else:\n",
    "    res = \"Error\"\n",
    "\n",
    "#print output\n",
    "print(\"Your data of birth is %s \\nYou are %s.\\nYou are a %s.\" %(date,gen,res))\n"
   ]
  },
  {
   "cell_type": "code",
   "execution_count": 22,
   "metadata": {},
   "outputs": [
    {
     "data": {
      "text/plain": [
       "datetime.datetime(1990, 1, 23, 0, 0)"
      ]
     },
     "execution_count": 22,
     "metadata": {},
     "output_type": "execute_result"
    }
   ],
   "source": [
    "datetime.strptime(\"900123\",'%y%m%d')"
   ]
  },
  {
   "cell_type": "code",
   "execution_count": 17,
   "metadata": {},
   "outputs": [
    {
     "name": "stdout",
     "output_type": "stream",
     "text": [
      "Your data of birth is 23/01/90 \n",
      "You are male.\n",
      "You are a South African citizen.\n"
     ]
    }
   ],
   "source": [
    "print(\"Your data of birth is %s \\nYou are %s.\\nYou are a %s.\" %(date,gen,res))"
   ]
  },
  {
   "cell_type": "code",
   "execution_count": 15,
   "metadata": {},
   "outputs": [
    {
     "name": "stdout",
     "output_type": "stream",
     "text": [
      "Your data of birth is 23/01/90 and male\n"
     ]
    }
   ],
   "source": [
    "print(\"Your data of birth is %s and %s\"%(date, gen))"
   ]
  },
  {
   "cell_type": "code",
   "execution_count": null,
   "metadata": {},
   "outputs": [],
   "source": []
  }
 ],
 "metadata": {
  "kernelspec": {
   "display_name": "Python 3",
   "language": "python",
   "name": "python3"
  },
  "language_info": {
   "codemirror_mode": {
    "name": "ipython",
    "version": 3
   },
   "file_extension": ".py",
   "mimetype": "text/x-python",
   "name": "python",
   "nbconvert_exporter": "python",
   "pygments_lexer": "ipython3",
   "version": "3.7.1"
  }
 },
 "nbformat": 4,
 "nbformat_minor": 2
}
