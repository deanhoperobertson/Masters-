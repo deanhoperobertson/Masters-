{
 "cells": [
  {
   "cell_type": "code",
   "execution_count": 47,
   "metadata": {},
   "outputs": [
    {
     "name": "stdout",
     "output_type": "stream",
     "text": [
      "Please enter your ID number:\n",
      "9001235074084\n",
      "Your date of birth is 23/01/90.\n",
      "You are male.\n",
      "You are a South African citizen.\n"
     ]
    }
   ],
   "source": [
    "#AUTHOR : RBRDEA003\n",
    "from datetime import datetime\n",
    "\n",
    "#user input prompt\n",
    "id_no = input('Please enter your ID number:\\n')\n",
    "\n",
    "#read in string elements\n",
    "date=str(id_no)[:6]\n",
    "#parses string date according to format and restruct into correct string format\n",
    "date = datetime.strptime(date,'%y%m%d').strftime('%d/%m/%y')\n",
    "gen = int(str(id_no)[6:10])  #convert string to intergers\n",
    "res = int(str(id_no)[10]) #convert string to intergers\n",
    "\n",
    "#define function to calculate the luhn agorithm \n",
    "def luhn(number):\n",
    "    array = list(map(int,list(number)))\n",
    "    odd_digits = array[-2::-2]\n",
    "    even_digits = array[-1::-2]\n",
    "    \n",
    "    checksum = 0\n",
    "    checksum = sum(odd_digits)\n",
    "    for digit in even_digits:\n",
    "        checksum += (digit*2)%9\n",
    "    return checksum % 10\n",
    "\n",
    "#control statment to determine gender\n",
    "if gen < 5000:\n",
    "    gen = \"female\"\n",
    "else:\n",
    "    gen = \"male\"\n",
    "    \n",
    "#control statment to determine residency\n",
    "if res == 0 :\n",
    "    res = \"South African citizen\"\n",
    "elif res == 1:\n",
    "    res = \"permanent resident\"\n",
    "else:\n",
    "    res = \"Error\"\n",
    "\n",
    "#control statment to determine whether ID no is valid by Luhn's agorithm\n",
    "if 10-luhn(str(id_no)[:-1]) == int(str(id_no)[-1]):\n",
    "    #output\n",
    "    print(\"Your date of birth is %s.\\nYou are %s.\\nYou are a %s.\" %(date,gen,res))\n",
    "\n",
    "else:\n",
    "    #alternative out\n",
    "    print(\"Invalid ID number.\")\n"
   ]
  },
  {
   "cell_type": "code",
   "execution_count": null,
   "metadata": {},
   "outputs": [],
   "source": []
  }
 ],
 "metadata": {
  "anaconda-cloud": {},
  "kernelspec": {
   "display_name": "Python 3",
   "language": "python",
   "name": "python3"
  },
  "language_info": {
   "codemirror_mode": {
    "name": "ipython",
    "version": 3
   },
   "file_extension": ".py",
   "mimetype": "text/x-python",
   "name": "python",
   "nbconvert_exporter": "python",
   "pygments_lexer": "ipython3",
   "version": "3.7.1"
  }
 },
 "nbformat": 4,
 "nbformat_minor": 1
}
