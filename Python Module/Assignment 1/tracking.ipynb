{
 "cells": [
  {
   "cell_type": "markdown",
   "metadata": {},
   "source": [
    "## Final Prgaramme"
   ]
  },
  {
   "cell_type": "code",
   "execution_count": 26,
   "metadata": {
    "scrolled": true
   },
   "outputs": [
    {
     "name": "stdout",
     "output_type": "stream",
     "text": [
      "Please enter the animal identity codes. (Press return when done.)\n",
      "Animal no. 1:\n",
      "3923\n",
      "Animal no. 2:\n",
      "9236\n",
      "Animal no. 3:\n",
      "e261\n",
      "Animal no. 4:\n",
      "\n",
      "Commands: print, log animal_id x_ord y_ord, quit.\n",
      ">log 3923 10 15\n",
      ">log e261 98 73\n",
      ">log 3923 1 3\n",
      ">print\n",
      "Animal 3923 last seen at (1, 3).\n",
      "Animal 9236 cannot be located.\n",
      "Animal e261 last seen at (98, 73).\n",
      ">quit\n"
     ]
    }
   ],
   "source": [
    "#AUTHOR : RBRDEA003\n",
    "\n",
    "command = \"running\" #set program status to \"running\"\n",
    "animals = [] #create empty list to hold animals id's\n",
    "\n",
    "#user question prompt\n",
    "print(\"Please enter the animal identity codes. (Press return when done.)\")\n",
    "\n",
    "#control statement that will run loop until command equals \"quit\"\n",
    "while not command ==\"quit\": \n",
    "    \n",
    "    i=1\n",
    "    while command !=\"quit\":\n",
    "        #input prompt for ID\n",
    "        print(\"Animal no. %s:\"%i)\n",
    "        id_no = input(\"\")\n",
    "        #if user enters \"quit\" break the loop and change command status\n",
    "        if id_no == \"quit\":\n",
    "            command = \"quit\"\n",
    "            break\n",
    "        elif id_no == \"\":\n",
    "            i=\"\"\n",
    "            break\n",
    "        animals.append(id_no) #add itirative id's to list \n",
    "        i += 1\n",
    "        \n",
    "#---------------------------------FUNCTIONS------------   \n",
    "\n",
    "    #define function to create a dictionary given a list of ID's\n",
    "    def create_dict(animals):\n",
    "        dictionary = {}\n",
    "        for item in animals:\n",
    "            dictionary[item] = \"\"\n",
    "        return(dictionary)\n",
    "    \n",
    "    #define a fucntions to recoginise what command is being parsed.\n",
    "    def recognize(string):\n",
    "        command = string.split()[0] #extract first word of string\n",
    "        #control statment categorizing possible commands\n",
    "        if command == \"Print\" or command == \"Print\".lower(): #check for both upper and lower case\n",
    "            return \"print\"\n",
    "        elif command == \"Log\" or command == \"Log\".lower(): #check for both upper and lower case\n",
    "            return \"log\"\n",
    "        else:\n",
    "            return \"unrecognisable\"\n",
    "    \n",
    "    #define fucntion to print out dictionary when needed\n",
    "    def print_dic(dictionary):\n",
    "        for key in dictionary:\n",
    "            if dictionary[key]==\"\": #if there is no location - state so \n",
    "                print(\"Animal\",key,\"cannot be located.\")\n",
    "            else:\n",
    "                print(\"Animal\",key,\"last seen at (%s, %s).\"%(dictionary[key][0],dictionary[key][1]))\n",
    "    \n",
    "    #define functiont to split command strings into ID and location\n",
    "    def command_split(string):\n",
    "        return {string.split()[1]:(string.split()[2],string.split()[3])}\n",
    "    \n",
    "    #check if the string contains a locations in numbers or valid letters\n",
    "    def isnumber(id_no):\n",
    "        try: #try to see if there are digits present at element 3 and 4 \n",
    "            return str.isdigit(id_no.split()[2]) and str.isdigit(id_no.split()[3])\n",
    "        except IndexError: #if not elements return false\n",
    "            return True\n",
    "        \n",
    "        #define a fucntion to determine whether there is an error in the log string\n",
    "    def error(id_no):\n",
    "        try: \n",
    "            return isinstance(id_no.split()[2],str) and isinstance(id_no.split()[3],str)\n",
    "        except IndexError :\n",
    "            return False\n",
    "        \n",
    "        \n",
    "    #define a functiont to check that the ID logged is present in the initial list\n",
    "    def ispresent(id_no,animals):\n",
    "        if id_no.split()[1] in str(animals):\n",
    "            return(True)\n",
    "        else:\n",
    "            return(False)\n",
    "#---------------------------------------------------- \n",
    "    \n",
    "    #populate the dictionary once the user has added all ID's\n",
    "    dic = create_dict(animals)\n",
    "    print(\"Commands: print, log animal_id x_ord y_ord, quit.\")\n",
    "    #prompt the use what which command he would like to use\n",
    "    y=1\n",
    "    while command !=\"quit\": \n",
    "        #print(\"Commands: Print, log animal_id x_ord y_ord, quit.\")\n",
    "        id_no = input(\">\"*y) #user input prompt\n",
    "        y += 1\n",
    "        #if \"quit\" command is used, then break the loop\n",
    "        if id_no == \"quit\":\n",
    "            command = \"quit\"\n",
    "            break\n",
    "        \n",
    "        elif recognize(id_no) == \"print\":\n",
    "            print_dic(dic) #call dictionary printing funtion if command is \"print\"\n",
    "            y=1\n",
    "        elif recognize(id_no) == \"unrecognisable\":\n",
    "            print(\"Could not interpret command.\") #print is command is unrecognisable\n",
    "            y=1\n",
    "        elif recognize(id_no) == \"log\" and error(id_no) ==False :\n",
    "            print(\"Could not interpret command.\\nCommands: print, log animal_id x_ord y_ord, quit.\")#alert the user that his locations need to be intergers\n",
    "            y=1\n",
    "        #check if log command contains valid locations \n",
    "        elif recognize(id_no) == \"log\" and isnumber(id_no) and ispresent(id_no,animals)==True: \n",
    "            dic.update(command_split(id_no)) #add locations to dictions\n",
    "            y=1\n",
    "\n",
    "        elif recognize(id_no) == \"log\" and isnumber(id_no) ==False :\n",
    "            print(\"The ordinates should be integers.\\nCommands: print, log animal_id x_ord y_ord, quit.\")#alert the user that his locations need to be intergers\n",
    "            y=1\n",
    "        else:\n",
    "            print(\"That animal identity code is unknown.\")\n",
    "            y=1\n",
    "            \n",
    "            "
   ]
  },
  {
   "cell_type": "markdown",
   "metadata": {},
   "source": [
    "## Other Notes"
   ]
  },
  {
   "cell_type": "markdown",
   "metadata": {},
   "source": [
    "#### Code to split command "
   ]
  },
  {
   "cell_type": "code",
   "execution_count": 9,
   "metadata": {},
   "outputs": [
    {
     "data": {
      "text/plain": [
       "['log', 'e42f4', '32', '43']"
      ]
     },
     "execution_count": 9,
     "metadata": {},
     "output_type": "execute_result"
    }
   ],
   "source": [
    "def command_split(string):\n",
    "    return {string.split()[1]:(string.split()[2],string.split()[3])}\n",
    "\n",
    "command_split(\"log e42f4 32 43\")"
   ]
  },
  {
   "cell_type": "markdown",
   "metadata": {},
   "source": [
    "#### Code recognize command"
   ]
  },
  {
   "cell_type": "code",
   "execution_count": 1,
   "metadata": {},
   "outputs": [
    {
     "data": {
      "text/plain": [
       "'log'"
      ]
     },
     "execution_count": 1,
     "metadata": {},
     "output_type": "execute_result"
    }
   ],
   "source": [
    "def recognize(string):\n",
    "    command = string.split()[0]\n",
    "    if command == \"Print\" or command == \"Print\".lower():\n",
    "        return \"print\"\n",
    "    elif command == \"Log\" or command == \"Log\".lower():\n",
    "        return \"log\"\n",
    "    else:\n",
    "        return \"unrecognisable\"\n",
    "\n",
    "#test \n",
    "recognize(\"Log fhehf 40 23\")"
   ]
  },
  {
   "cell_type": "markdown",
   "metadata": {},
   "source": [
    "#### Code to Read in Series"
   ]
  },
  {
   "cell_type": "code",
   "execution_count": null,
   "metadata": {},
   "outputs": [
    {
     "name": "stdout",
     "output_type": "stream",
     "text": [
      "Please enter the animal identity codes. (Press return when done)\n",
      "\n",
      "Animal no. 1\n"
     ]
    }
   ],
   "source": [
    "print(\"Please enter the animal identity codes. (Press return when done)\\n\")\n",
    "animals = []\n",
    "i = 1\n",
    "while True:\n",
    "    print(\"Animal no.\",i)\n",
    "    id_no =input(\"\")\n",
    "    if id_no == \"quit\":\n",
    "        break\n",
    "    animals.append(id_no)\n",
    "    i +=1\n",
    "print(\"terminated\")"
   ]
  },
  {
   "cell_type": "markdown",
   "metadata": {},
   "source": [
    "#### Print all last known locations"
   ]
  },
  {
   "cell_type": "code",
   "execution_count": 25,
   "metadata": {},
   "outputs": [
    {
     "name": "stdout",
     "output_type": "stream",
     "text": [
      "Animal ad33o last seen at (1,10)\n",
      "Animal gdfh8 last seen at (2,3)\n",
      "Animal fjwef cannot be located\n"
     ]
    }
   ],
   "source": [
    "fake_dic = {\"ad33o\": (1,10),\n",
    "           \"gdfh8\": (2,3),\n",
    "           \"fjwef\": \"\"}\n",
    "\n",
    "def print_dic(dictionary):\n",
    "    for key in dictionary:\n",
    "        if dictionary[key]==\"\":\n",
    "            print(\"Animal\",key,\"cannot be located\")\n",
    "        else:\n",
    "            print(\"Animal\",key,\"last seen at (%s,%s)\"%(dictionary[key][0],dictionary[key][1]))\n",
    "#test    \n",
    "print_dic(fake_dic)"
   ]
  },
  {
   "cell_type": "markdown",
   "metadata": {},
   "source": [
    "#### Code for print location of an Animal"
   ]
  },
  {
   "cell_type": "code",
   "execution_count": 66,
   "metadata": {},
   "outputs": [
    {
     "name": "stdout",
     "output_type": "stream",
     "text": [
      "Animal gdfh8 last seen at (2,3)\n"
     ]
    }
   ],
   "source": [
    "def print_known(dictionary, animal):\n",
    "    if animal in fake_dic.keys():\n",
    "        if dictionary[animal]==\"\":\n",
    "            print(\"Animal\",animal,\"cannot be located\")\n",
    "        else:\n",
    "            print(\"Animal\",animal,\"last seen at (%s,%s)\"%(dictionary[animal][0],dictionary[animal][1]))\n",
    "    else:\n",
    "        print(\"Animal not in dictionay\")\n",
    "        \n",
    "#Test funtion\n",
    "animal = \"gdfh8\"\n",
    "print_known(fake_dic,animal)"
   ]
  },
  {
   "cell_type": "markdown",
   "metadata": {},
   "source": [
    "#### Code for updating dictionary"
   ]
  },
  {
   "cell_type": "code",
   "execution_count": 17,
   "metadata": {},
   "outputs": [
    {
     "data": {
      "text/plain": [
       "{'ad33o': (1, 10), 'fjwef': (1, 3), 'gdfh8': (2, 3)}"
      ]
     },
     "execution_count": 17,
     "metadata": {},
     "output_type": "execute_result"
    }
   ],
   "source": [
    "fake_dic = {\"ad33o\": (1,10),\n",
    "           \"gdfh8\": (2,3),\n",
    "           \"fjwef\": \"\"}\n",
    "\n",
    "addition = {\"fjwef\":(1,3)}\n",
    "\n",
    "fake_dic.update(addition)\n",
    "\n",
    "#test\n",
    "fake_dic"
   ]
  },
  {
   "cell_type": "markdown",
   "metadata": {},
   "source": [
    "#### Create Data structure"
   ]
  },
  {
   "cell_type": "code",
   "execution_count": 8,
   "metadata": {},
   "outputs": [
    {
     "data": {
      "text/plain": [
       "{'Fwef': '', 'fesf': '', 'wefgew': ''}"
      ]
     },
     "execution_count": 8,
     "metadata": {},
     "output_type": "execute_result"
    }
   ],
   "source": [
    "test = [\"wefgew\", \"Fwef\", \"fesf\"]\n",
    "\n",
    "def create_dict(animals):\n",
    "    person = {}\n",
    "    for item in animals:\n",
    "        person[item] = \"\"\n",
    "    return(person)\n",
    "\n",
    "create_dict(test)"
   ]
  }
 ],
 "metadata": {
  "kernelspec": {
   "display_name": "Python 3",
   "language": "python",
   "name": "python3"
  },
  "language_info": {
   "codemirror_mode": {
    "name": "ipython",
    "version": 3
   },
   "file_extension": ".py",
   "mimetype": "text/x-python",
   "name": "python",
   "nbconvert_exporter": "python",
   "pygments_lexer": "ipython3",
   "version": "3.7.1"
  }
 },
 "nbformat": 4,
 "nbformat_minor": 2
}
